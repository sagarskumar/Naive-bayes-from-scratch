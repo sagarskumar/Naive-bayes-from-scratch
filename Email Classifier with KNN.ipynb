{
 "cells": [
  {
   "cell_type": "code",
   "execution_count": 82,
   "id": "94c94afc",
   "metadata": {},
   "outputs": [
    {
     "name": "stdout",
     "output_type": "stream",
     "text": [
      "(5571, 2)\n"
     ]
    },
    {
     "data": {
      "text/html": [
       "<div>\n",
       "<style scoped>\n",
       "    .dataframe tbody tr th:only-of-type {\n",
       "        vertical-align: middle;\n",
       "    }\n",
       "\n",
       "    .dataframe tbody tr th {\n",
       "        vertical-align: top;\n",
       "    }\n",
       "\n",
       "    .dataframe thead th {\n",
       "        text-align: right;\n",
       "    }\n",
       "</style>\n",
       "<table border=\"1\" class=\"dataframe\">\n",
       "  <thead>\n",
       "    <tr style=\"text-align: right;\">\n",
       "      <th></th>\n",
       "      <th>Label</th>\n",
       "      <th>SMS</th>\n",
       "    </tr>\n",
       "  </thead>\n",
       "  <tbody>\n",
       "    <tr>\n",
       "      <th>0</th>\n",
       "      <td>ham</td>\n",
       "      <td>Ok lar... Joking wif u oni...</td>\n",
       "    </tr>\n",
       "    <tr>\n",
       "      <th>1</th>\n",
       "      <td>spam</td>\n",
       "      <td>Free entry in 2 a wkly comp to win FA Cup fina...</td>\n",
       "    </tr>\n",
       "    <tr>\n",
       "      <th>2</th>\n",
       "      <td>ham</td>\n",
       "      <td>U dun say so early hor... U c already then say...</td>\n",
       "    </tr>\n",
       "    <tr>\n",
       "      <th>3</th>\n",
       "      <td>ham</td>\n",
       "      <td>Nah I don't think he goes to usf, he lives aro...</td>\n",
       "    </tr>\n",
       "    <tr>\n",
       "      <th>4</th>\n",
       "      <td>spam</td>\n",
       "      <td>FreeMsg Hey there darling it's been 3 week's n...</td>\n",
       "    </tr>\n",
       "  </tbody>\n",
       "</table>\n",
       "</div>"
      ],
      "text/plain": [
       "  Label                                                SMS\n",
       "0   ham                      Ok lar... Joking wif u oni...\n",
       "1  spam  Free entry in 2 a wkly comp to win FA Cup fina...\n",
       "2   ham  U dun say so early hor... U c already then say...\n",
       "3   ham  Nah I don't think he goes to usf, he lives aro...\n",
       "4  spam  FreeMsg Hey there darling it's been 3 week's n..."
      ]
     },
     "execution_count": 82,
     "metadata": {},
     "output_type": "execute_result"
    }
   ],
   "source": [
    "import pandas as pd\n",
    "sms_spam  = pd.read_csv(\"D:\\python\\spam.csv\", encoding = \"ISO-8859-1\", usecols=[0,1], skiprows=1,\n",
    "                  names=[\"Label\", \"SMS\"])\n",
    "print(sms_spam.shape)\n",
    "sms_spam.head()"
   ]
  },
  {
   "cell_type": "code",
   "execution_count": 83,
   "id": "e37b0849",
   "metadata": {},
   "outputs": [
    {
     "data": {
      "text/plain": [
       "ham     0.865913\n",
       "spam    0.134087\n",
       "Name: Label, dtype: float64"
      ]
     },
     "execution_count": 83,
     "metadata": {},
     "output_type": "execute_result"
    }
   ],
   "source": [
    "sms_spam['Label'].value_counts(normalize=True)"
   ]
  },
  {
   "cell_type": "code",
   "execution_count": 84,
   "id": "34939a7d",
   "metadata": {},
   "outputs": [
    {
     "name": "stdout",
     "output_type": "stream",
     "text": [
      "(4457, 2)\n",
      "(1114, 2)\n"
     ]
    }
   ],
   "source": [
    "data_randomized = sms_spam.sample(frac=1, random_state=1)\n",
    "\n",
    "training_test_index = round(len(data_randomized) * 0.8)\n",
    "\n",
    "training_set = data_randomized[:training_test_index].reset_index(drop=True)\n",
    "test_set = data_randomized[training_test_index:].reset_index(drop=True)\n",
    "\n",
    "print(training_set.shape)\n",
    "print(test_set.shape)"
   ]
  },
  {
   "cell_type": "code",
   "execution_count": 85,
   "id": "4a0c1361",
   "metadata": {},
   "outputs": [
    {
     "data": {
      "text/plain": [
       "ham     0.865829\n",
       "spam    0.134171\n",
       "Name: Label, dtype: float64"
      ]
     },
     "execution_count": 85,
     "metadata": {},
     "output_type": "execute_result"
    }
   ],
   "source": [
    "training_set['Label'].value_counts(normalize=True)"
   ]
  },
  {
   "cell_type": "code",
   "execution_count": 86,
   "id": "425be52c",
   "metadata": {},
   "outputs": [
    {
     "data": {
      "text/plain": [
       "ham     0.866248\n",
       "spam    0.133752\n",
       "Name: Label, dtype: float64"
      ]
     },
     "execution_count": 86,
     "metadata": {},
     "output_type": "execute_result"
    }
   ],
   "source": [
    "test_set['Label'].value_counts(normalize=True)"
   ]
  },
  {
   "cell_type": "markdown",
   "id": "a1ad0e99",
   "metadata": {},
   "source": [
    "Data Cleaning\n",
    "When a new message comes in, our multinomial Naive Bayes algorithm will make the classification based on the results it gets to these two equations below, where \"w1\" is the first word, and w1,w2, ..., wn is the entire message:\n",
    "\n",
    "Equation\n",
    "Equation\n",
    "If P(Spam | w1,w2, ..., wn) is greater than P(Ham | w1,w2, ..., wn), then the message is spam.\n",
    "\n",
    "To calculate P(wi|Spam) and P(wi|Ham), we need to use separate equations:\n",
    "\n",
    "Equation\n",
    "Equation\n",
    "Let's clarify some of the terms in these equations:\n",
    "\n",
    "Equation\n",
    "Equation\n",
    "Equation\n",
    "Equation\n",
    "Equation\n",
    "Equation\n",
    "To calculate all these probabilities, we'll first need to perform a bit of data cleaning to bring the data into a format that allows us to easily extract all the information we need. "
   ]
  },
  {
   "cell_type": "code",
   "execution_count": 87,
   "id": "0cbb0c8f",
   "metadata": {},
   "outputs": [
    {
     "data": {
      "text/plain": [
       "<matplotlib.image.AxesImage at 0x21d43bae1d0>"
      ]
     },
     "execution_count": 87,
     "metadata": {},
     "output_type": "execute_result"
    },
    {
     "data": {
      "image/png": "[encoded data removed]",
      "text/plain": [
       "<Figure size 432x288 with 1 Axes>"
      ]
     },
     "metadata": {
      "needs_background": "light"
     },
     "output_type": "display_data"
    }
   ],
   "source": [
    "import matplotlib.image as mpimg\n",
    "import matplotlib.pyplot as plt\n",
    "img = mpimg.imread('Screenshot.png')\n",
    "plt.imshow(img)"
   ]
  },
  {
   "cell_type": "code",
   "execution_count": 88,
   "id": "1958c895",
   "metadata": {},
   "outputs": [],
   "source": [
    "# Before Cleaning"
   ]
  },
  {
   "cell_type": "code",
   "execution_count": 89,
   "id": "3ffd3a86",
   "metadata": {},
   "outputs": [
    {
     "data": {
      "text/html": [
       "<div>\n",
       "<style scoped>\n",
       "    .dataframe tbody tr th:only-of-type {\n",
       "        vertical-align: middle;\n",
       "    }\n",
       "\n",
       "    .dataframe tbody tr th {\n",
       "        vertical-align: top;\n",
       "    }\n",
       "\n",
       "    .dataframe thead th {\n",
       "        text-align: right;\n",
       "    }\n",
       "</style>\n",
       "<table border=\"1\" class=\"dataframe\">\n",
       "  <thead>\n",
       "    <tr style=\"text-align: right;\">\n",
       "      <th></th>\n",
       "      <th>Label</th>\n",
       "      <th>SMS</th>\n",
       "    </tr>\n",
       "  </thead>\n",
       "  <tbody>\n",
       "    <tr>\n",
       "      <th>0</th>\n",
       "      <td>ham</td>\n",
       "      <td>I promise to take good care of you, princess. ...</td>\n",
       "    </tr>\n",
       "    <tr>\n",
       "      <th>1</th>\n",
       "      <td>ham</td>\n",
       "      <td>Let me know how it changes in the next 6hrs. I...</td>\n",
       "    </tr>\n",
       "    <tr>\n",
       "      <th>2</th>\n",
       "      <td>spam</td>\n",
       "      <td>Free 1st week entry 2 TEXTPOD 4 a chance 2 win...</td>\n",
       "    </tr>\n",
       "  </tbody>\n",
       "</table>\n",
       "</div>"
      ],
      "text/plain": [
       "  Label                                                SMS\n",
       "0   ham  I promise to take good care of you, princess. ...\n",
       "1   ham  Let me know how it changes in the next 6hrs. I...\n",
       "2  spam  Free 1st week entry 2 TEXTPOD 4 a chance 2 win..."
      ]
     },
     "execution_count": 89,
     "metadata": {},
     "output_type": "execute_result"
    }
   ],
   "source": [
    "training_set.head(3)\n"
   ]
  },
  {
   "cell_type": "code",
   "execution_count": 90,
   "id": "35342e48",
   "metadata": {},
   "outputs": [
    {
     "name": "stderr",
     "output_type": "stream",
     "text": [
      "C:\\Users\\Sagar\\AppData\\Local\\Temp/ipykernel_21472/2730067506.py:2: FutureWarning: The default value of regex will change from True to False in a future version.\n",
      "  training_set['SMS'] = training_set['SMS'].str.replace(\n"
     ]
    },
    {
     "data": {
      "text/html": [
       "<div>\n",
       "<style scoped>\n",
       "    .dataframe tbody tr th:only-of-type {\n",
       "        vertical-align: middle;\n",
       "    }\n",
       "\n",
       "    .dataframe tbody tr th {\n",
       "        vertical-align: top;\n",
       "    }\n",
       "\n",
       "    .dataframe thead th {\n",
       "        text-align: right;\n",
       "    }\n",
       "</style>\n",
       "<table border=\"1\" class=\"dataframe\">\n",
       "  <thead>\n",
       "    <tr style=\"text-align: right;\">\n",
       "      <th></th>\n",
       "      <th>Label</th>\n",
       "      <th>SMS</th>\n",
       "    </tr>\n",
       "  </thead>\n",
       "  <tbody>\n",
       "    <tr>\n",
       "      <th>0</th>\n",
       "      <td>ham</td>\n",
       "      <td>i promise to take good care of you  princess  ...</td>\n",
       "    </tr>\n",
       "    <tr>\n",
       "      <th>1</th>\n",
       "      <td>ham</td>\n",
       "      <td>let me know how it changes in the next 6hrs  i...</td>\n",
       "    </tr>\n",
       "    <tr>\n",
       "      <th>2</th>\n",
       "      <td>spam</td>\n",
       "      <td>free 1st week entry 2 textpod 4 a chance 2 win...</td>\n",
       "    </tr>\n",
       "  </tbody>\n",
       "</table>\n",
       "</div>"
      ],
      "text/plain": [
       "  Label                                                SMS\n",
       "0   ham  i promise to take good care of you  princess  ...\n",
       "1   ham  let me know how it changes in the next 6hrs  i...\n",
       "2  spam  free 1st week entry 2 textpod 4 a chance 2 win..."
      ]
     },
     "execution_count": 90,
     "metadata": {},
     "output_type": "execute_result"
    }
   ],
   "source": [
    "# After cleaning\n",
    "training_set['SMS'] = training_set['SMS'].str.replace(\n",
    "   '\\W', ' ') # Removes punctuation\n",
    "training_set['SMS'] = training_set['SMS'].str.lower()\n",
    "training_set.head(3)"
   ]
  },
  {
   "cell_type": "code",
   "execution_count": 91,
   "id": "fe510ff8",
   "metadata": {},
   "outputs": [
    {
     "name": "stdout",
     "output_type": "stream",
     "text": [
      "['chip', 'wont', 'screaming', 'kiosk', 'shoranur', 'scenario', 'gods', 'suzy', 'box97n7qp', 'wid', 'bhayandar', 'mtmsgrcvd18', 'half', 'wine', 'mathe', 'stoptxtstopå', 'really', '09099726395', 'gudni8', 'volcanoes', 'barkleys', 'craving', 'kadeem', 'smell', 'crazy', 'sp', 'further', 'clip', 'toshiba', '1stone', 'servs', 'syllabus', 'muhommad', 'whn', 'tool', 'les', '400mins', 'blanket', 'donåõt', 'surprise', 'box177', '69876', 'true', 's', '0796xxxxxx', 'eta', 'contact', 'onto', 'across', 'alle', 'bin', 'craziest', 'resent', 'thatåõs', 'fishhead', 'memories', 'pretty', 'subscribe', 'nigpun', 'hf8', '67441233', 'restaurant', 'signing', 'jp', 'malarky', 'airport', 'nothing', 'mindset', 'huai', 'chiong', 'ten', 'repent', '09061790126', '95', 'lool', 'pros', 'update', 'salesman', 'condition', 'ibiza', 'africa', '08708800282', 'beautiful', 'coulda', 'undrstndng', 'bluetooth', 'headstart', 'rgent', 'signin', 'prescribed', 'marandratha', 'study', 'jog', 'debating', 'braved', 'sometext', 'shaping', 'b', 'lose', 'shock', 'unintentional', 'season', 'logging', 'cartoon', 'tue', 'mathews', 'customers', 'xafter', 'painful', 'wit', 'report', 'sofa', '146tf150p', 'differ', 'august', 'ìï', 'deepak', 'chase', 'courage', 'madoke', 'as', 'ratio', 'simpsons', 'quit', 'credited', 'jada', 'notxt', 'vijaykanth', 'xx', 'argument', 'terrible', 'christ', 'yalru', 'tookplace', 'get', 'juicy', 'longer', 'wind', 'problems', 'mobcudb', 'perhaps', 'garbage', 'lux', 'sexiest', 'stylist', 'begin', 'pride', 'darker', 'pobox12n146tf15', 'my', 'burn', 'lift', 'youi', 'shitstorm', 'won', 'engaged', 'completing', 'wt', 'fuckinnice', 'sara', 'valuing', 'falls', 'lasting', 'created', 'fooled', 'freaked', 'school', 'yo', 'sugardad', 'favourite', '731', 'jos', '08714342399', 'wednesday', 'laughing', 'pears', 'easier', 'forgot', '0207', 'id', 'didntgive', 'eppolum', 'balloon', 'zyada', 'casing', 'yahoo', 'panther', 'statements', 'beerage', '450p', 'tobacco', 'makiing', 'until', 'frnt', '3100', 'watched', 'box420', 'vodafone', 'congrats', 'misscall', 'buffet', 'amp', 'bout', 'meals', 'fps', '83332', 'bian', 'epsilon', 'tht', '09066362231', 'o', 'sender', 'engin', 'weeks', 'tel', 'area', 'a21', 'stopcost', '07123456789', 'swat', '4', 'multimedia', 'regular', 'passable', 'gamb', 'atten', 'pack', 'naal', 'lemme', 'gobi', 'veggie', 'presnts', 'complaint', 'stressful', '10p', 'nahi', '5digital', 'pleasant', 'liao', 'backwards', 'lautech', 'madurai', 'fedex', 'phd', 'bao', 'log', 'tlk', 'erupt', 'ahead', 'bilo', 'swoop', 'margaret', 'nd', 'unconvinced', 'lot', 'flights', 'ring', 'twat', 'absolutely', 'mmmm', 'bx420', 'needle', 'wenwecan', 'missions', 'loud', 'part', 'batchlor', 'access', 'gage', 'xxxxxxx', 'mess', 'ig11', 'choose', 'maangalyam', 'xuhui', 'wer', '82468', '2gthr', 'work', 'chance', 'bbc', 'stuffs', 'download', 'practice', 'wins', 'das', 'box', 'cumming', '44345', 'cable', 'teenager', 'thou', 'kickboxing', 'await', 'callså', 'emigrated', '48', 'grateful', 'otside', 'ahhhh', 'you', 'format', 'divorce', 'mc', '195', 'messages', 'pple', 'ffffffffff', 'soul', 'god', 'tv', 'is', 'velusamy', 'switch', '0125698789', 'catches', 'destiny', 'justbeen', 'lotr', '09096102316', 'hugh', 'prepayment', 'khelate', 'care', 'fightng', 'fifteen', 'soc', 'applebees', 'hurry', 'tick', 'nan', 'freek', 'childrens', 'kip', 'appear', 'fast', 'gang', '300', 'asus', 'any', 'plum', 'callback', 'fret', 'orig', 'drastic', 'pocy', 'washob', 'checkup', 'day', 'islands', 'event', 'ringtoneking', 'recorder', 'info', 'cuppa', 'locaxx', 'cleaning', 'namous', 'dormitory', 'province', 'str8', 'transfred', 'snowball', 'thnk', 'wo', 'mental', 'affair', 'cousin', '9280114', 'oso', 'cds', 'fm', 'molested', 'hv9d', 'sayin', 'jiayin', 'forever', 'http', 'kay', '4742', '09064015307', 'posible', 'activities', 'nauseous', 'what', 'titles', 'steve', 'tea', 'ilol', 'dey', '674', 'amazing', 'fo', 'killed', 'abi', 'anna', 'shop', 'thanks', 'shouldn', 'else', 'southern', 'edition', 'chit', 'position', 'stick', 'kappa', 'cooking', 'credits', 'thasa', 'hearin', '09050000332', 'hugs', 'm221bp', 'sending', 'make', 'unrecognized', 'along', 'christmas', 'oooh', 'rd', 'finishes', 'continue', 'every1', 'earlier', 'cha', '08712402972', 'job', 'shit', 'cinema', 'items', 'sleeps', 'drivin', 'raise', 'kept', 'carry', 'baaaaabe', 'dignity', '81303', '1225', 'burns', 'percent', 'urawinner', 'offers', 'cost', 'breather', 'gay', 'beads', 'meet', '7250', '09099726481', 'parkin', 'exorcism', 'praveesh', 'boughtåóbraindanceåóa', 'bird', 'havin', 'selection', 'technical', 'lovers', 'affectionate', 'capital', 'astoundingly', '07046744435', 'current', 'yetty', 'players', 'thousands', 'causes', 'training', 'happiest', 'cali', 'wi', 'hmmross', 'boo', 'heat', 'sq825', 'was', 'goodnite', 'informed', 'potter', '09099725823', '9ae', 'gonna', 'raised', 'ignoring', 'meh', 'appropriate', 'reflex', 'beverage', 'gin', 'shove', 'finds', 'texts', 'using', 'weåõve', '8883', 'virtual', 'concentration', 'potato', 'nalla', 'sliding', 'guild', 'cocksuckers', 'balance', 'spin', 'deltomorrow', '08719839835', 'heading', 'wan', 'brownie', 'hsbc', 'arent', '083', '7876150ppm', 'put', 'sentence', 'kath', 'habit', 'associate', 'almost', 'nokias', 'skyving', 'caveboy', '0', 'touched', 'prestige', 'spontaneously', 'honesty', 'ericson', 'anyways', 'looking', 'upload', 'rct', 'refunded', 'todays', '500', 'limiting', 'clothes', 'flowers', 'wrc', 'cup', 'months', 'stapati', 'barolla', 'made', 'off', 'q', 'allday', 'crying', 'smear', 'conditions', 'vibrate', 'franyxxxxx', 'gray', 'computer', 'hollalater', 'cards', 'puts', 'qbank', 'mobs', 'light', 'offcampus', 'steering', 'wen', 'cusoon', 'subscrition', 'hostile', 'acid', '6hrs', 'started', 'vip', 'palm', '09050000555', 'reached', 'doesnt', 'w45wq', '4xx26', 'suits', 'forå', '3uz', 'place', 'vava', 'doing', 'rushing', 'mileage', 'noooooooo', 'nyc', 'panasonic', 'girl', 'air', 'werethe', 'liver', 'stated', 'jet', '88600', 'phoenix', 'pay', 'coaxing', '125gift', 'rstm', '750', 'edge', 'bcaz', 'liked', 'combine', 'scotch', 'aluable', 'weaseling', 'vouch4me', 'norcorp', 'payed', '01223585334', 'neck', 'original', 'nic', 'tones', 'opposed', 'da', 'butt', '300603t', 'their', 'usher', 'resume', 'wetherspoons', 'hence', '14thmarch', 'forgiven', 'key', 'ctagg', 'big', 'beatings', 'elaine', 'information', 'keyword', 'pap', '150pm', 'offering', 'julianaland', 'didnt', 'relatives', 'warranty', 'upstairs', 'save', '09065171142', 'dined', 'burning', 'antelope', 'during', 'pulling', 'mumbai', 'callertune', 'employer', 'hint', 'birds', '169', 'or', 'florida', 'met', 'bcum', 'beware', 'disconnected', 'mate', 'jump', 'somethin', 'watching', 'fire', 'lo', '62468', 'youdoing', 'cancelled', 'december', 'patty', 'loose', 'minded', 'wiv', 'jjc', 'around', 'creativity', 'hopefully', 'frying', 'unsecured', 'buddy', 'spageddies', 'goal', 'undrstnd', 'loving', 'replace', 'several', 'account', 'keeping', 'doctor', 'adults', 'gsoh', 'bruce', 'leg', 'fallen', 'conserve', 'realize', 'swhrt', 'aiyo', 'goin2bed', '09065069154', 'takecare', '9755', 'follow', 'arr', '872', 'stu', 'multiply', 'instructions', 'especially', 'lov', 'gran', 's3xy', 'results', 'tough', 'miracle', 'four', 'business', 'with', '08712402902', 'guessed', 'ninish', 'cutest', 'kodstini', 'foreign', 'blur', '7oz', 'ntt', 'clean', 'interview', '09111030116', 'unclaimed', 'frm', 'england', 'pillows', 'movies', 't', 'chords', 'waht', 'labor', 'mom', 'mutations', 'price', 'idk', 'australia', 'petey', 'uncut', '515', 'contacts', '4a', 'chikku', 'maggi', 'sch', 'lambu', 'onbus', 'irene', 'front', 'reache', 'pocketbabe', 'natwest', 'adoring', 'hasbro', 'midnight', 'mmsto', 'words', 'tb', 'cat', 'icky', 'sk38xh', 'losing', 'thats', 'mobypobox734ls27yf', 'kindly', 'dobby', '130', 'no', 'practicing', 'phones', '0870', 'rem', 'amla', 'ecstacy', 'poking', 'damn', 'becoz', 'shijutta', 'bhaji', 'luv', 'snowman', '09066364349', 'mrng', 'garage', 'txts', 'torture', 'wat', 'culdnt', 'pg', 'assume', 'agalla', 'speciale', '9t', 'blowing', 'two', 'oz', 'convey', 'cc', 'bathe', 'poker', 'holder', 'ge', 'billed', 'shrub', 'presence', 'reg', 'fffff', 'plumbers', 'dead', 'gotmarried', 'because', 'dancin', 'browsin', 'naughty', 'exchanged', 'yunny', 'chinky', 'solve', 'clubsaisai', 'office', '08000930705', 'radio', 'appy', 'emily', 'dessert', 'ou', 'modl', 'gentle', 'youre', 'stalking', 'langport', 'renewal', 'seriously', 'ambitious', 'cafe', 'haven', 'dent', 'convinced', 'notebook', 'textbuddy', 'probs', 'troubleshooting', 'hunting', 'art', 'mei', 'dis', 'sarcastic', 'tmrw', 'coimbatore', 'rules', '6089', 'tc', '2wt', 'forget', 'workin', 'hesitation', '47per', 'aww', 'bras', 'statement', 'submitted', 'prospects', 'truth', '3miles', 'ticket', 'themed', 'often', 'hope', 'possibility', 'wocay', 'cooperative', '09094100151', 'tke', 'suffer', 'freezing', 'personality', 'appointments', 'gloucesterroad', 'pound', 'odi', 'that2worzels', 'pouts', 'sleepy', 'tohar', 'raping', '2004', 'biggest', 'gailxx', 'billion', 'buy', '08448350055', 'inform', '2000', 'house', 'juz', 'din', 'wn', '07090201529', 'immediately', 'mmm', 'skype', 'steal', 'sweetheart', 'shipping', 'stays', 'becausethey', 'trains', 'astronomer', 'ad', 'mah', 'tag', 'cer', 'himso', 'occupy', 'dorothy', 'hooked', '83039', 'swan', 'begins', 'eckankar', 'different', 'celebrate', 'necklace', 'correctly', 'talent', 'caller', 'vargu', 'mix', '8am', 'executive', 'sry', 'believe', 'in2', 'required', '4217', 'pai', 'taxi', '000', 'bloomberg', 'name2', 'hiphop', 'mentor', '5wq', 'tait', 'calling', 'good', 'submitting', 'nevering', 'hides', 'placement', 'painting', 'akon', 'myself', 'friendship', 'song', 'obey', 'month', 'announced', 'asp', 'postal', 'withdraw', 'entry', 'appointment', 'trauma', 'knocking', '2mro', 'nobbing', 'entirely', 'dime', 'sac', '06', '08000938767', 'nursery', 'sections', 'filled', 'showed', 'unless', 'pounded', '50rcvd', 'xxx', 'deluxe', 'accumulation', 'standard', 'will', 'okay', 'wesley', '450', 'recorded', 'seen', 'likes', 'smokes', 'punto', '330', 'nver', '008704050406', 'woozles', 'bid', 'jogging', 'complimentary', 'major', 'speed', 'fr', 'eerie', 'unhappy', 'remind', 'mandara', 'wud', 'brought', 'kettoda', 'course', 'gal', 'sehwag', 'deliver', '2814032', 'already', 'boring', 'raj', 'styling', 'pig', 'madstini', 'fever', 'newspapers', '08718723815', 'strt', '2geva', 'may', 'disagreeable', 'gifts', 'nokia', 'tscs087147403231winawk', '2morro', 'lodge', 'atlanta', '08719180248', 'mango', 'ystrday', 'itried2tell', 'prizes', 'ass', 'useful', 'srt', 'congratulation', 'affairs', 'blonde', '50perwksub', 'lou', 'dom', '11pm', 'screen', 'missunderstding', 'poem', 'sweetest', 'listen', 'chocolate', 'w', '762', 'sportsx', 'professional', 'bang', 'desert', 'bright', 'vill', 'healer', 'qet', 'pale', 'attending', 'hypertension', 'paranoid', 'mustprovide', 'hoping', 'gayle', 'rest', 'priest', 'kanagu', 'ijust', 'grandma', 'ym', 'returns', '04', 'xy', 'hospital', 'manage', 'tell', 'passes', 'treacle', 'xxxxx', 'yay', 'goodnight', 'supports', 'mrt', 'sympathetic', 'batch', 'sayy', 'sashimi', 'hey', 'add', 'ovr', 'msn', 'trying', 'drum', 'mmmmmm', 'question', 'spoons', 'phyhcmk', 'korli', 'usual', 'problms', 'lotto', 'zed', 'carlin', 'superior', 'ethnicity', 'mis', 'wise', 'wright', 'poo', 'details', 'incident', 'facilities', 'mee', 'green', 'sharing', 'staring', 'continent', 'oh', 'team', 'toa', 'october', 'member', 'addie', 'greetings', 'h', 'lul', 'innu', 'head', 'laden', 'legal', 'txttowin', 'cheese', 'yifeng', 'gr8', '09061104283', 'cleared', '08712400603', 'n', 'ate', 'reward', 'requires', 'dnot', 'tahan', 'remain', 'visiting', 'have', 'survey', '8th', 'gt', 'tissco', 'acting', 'shitinnit', 'says', 'etc', 'eye', 'funeral', 'fault', 'aig', 'website', 'knows', '140', 'pole', 'temper', 'valentines', 'shuhui', 'vehicle', 'acc', 'trishul', 'ago', 'agent', 'boyf', 'prescription', 'listed', 'telephone', 'usmle', 'scared', '07815296484', 'oga', 'spatula', '420', 'seeds', 'pc1323', 'bill', 'helen', 'invite', '09058098002', 'guessing', 'smoking', 'lifetime', 'dollars', 'lifebook', 'consider', 'mob', 'changes', 'cysts', 'bowl', 'thinked', 'machi', 'neighbors', 'melle', 'ones', 'cheery', 'brownies', 'anythiing', '523', 'exam', '150p16', 'shut', 'touch', 'pick', 'nikiyu4', '0578', 'jamster', 'better', 'gam', 'limits', 'ccna', 'shortly', 'taken', 'gold', 'revision', 'ipads', 'qatar', 'heltini', 'channel', 'fakeye', 'graduated', '87066', 'makin', 'nokia6600', 'meat', 'y87', 'headin', 'tells', 'poop', 'wicked', 'dream', 'red', 'darkness', '2marrow', 'thanku', 'motivate', 'allah', 'uup', 'court', '88888', 'psychologist', 'texas', '4fil', 'decide', 'completely', 'correction', 'cherthala', 'dan', 'eachother', '7', 'not', '30apr', 'tscs', 'do', 'lobby', 'sheets', 'mudyadhu', 'wot', 'build', 'jeans', '09058097189', 'cereals', 'him', 'forgive', 'baig', 'summon', '9ja', 'dificult', 'waheed', 'lay', 'tmw', 'hm', 'faglord', '09050001295', 'rush', 'paces', 'sitll', 'specs', 'spiral', 'os', 'stuff42moro', 'dengra', 'thru', 'closed', 'fro', 'mums', 'negative', 'superb', 'ammae', 'diamond', 'weight', 'itself', 'oath', 'eek', 'savings', 'urfeeling', 'fifth', 'athletic', 'animal', 'hppnss', 'diddy', 'medicine', 'ship', 'service', 'lazy', 'rights', 'influx', 'monday', 'north', 'err', 'wonderful', 'arrive', 'disaster', 'barring', 'arise', 'birla', 'plane', 'told', 'could', 'peeps', 'cardin', '87121', 'level', 'mwahs', '09061790121', 'vomit', 'stuff', 'w1jhl', 'tomarrow', 'ache', 'ned', 'e', 'ringtoneåá', 'loosing', 'concert', 'starwars3', 'wanted', 'sleeping', 'bros', 'gosh', 'provided', 'duchess', 'served', 'knackered', 'usb', 'tunji', 'enters', '250k', 'tones2you', 'brighten', 'û_', 'wtf', 'stressed', 'fancy', 'bids', 'argue', 'private', 'tactless', 'mouth', 'callers', 'lavender', 'vaazhthukkal', 'dontmatter', 'bay', 'surrender', 'mcat', 'senrd', 'shola', 'sales', '3030', 'finding', 'happenin', 'prepare', 'die', 'ha', 'fails', 'go2sri', 'wap', '16', 'coming', 'added', 'stay', 'headache', 'everythin', 'dabooks', 'poyyarikatur', 'wenever', 'under', '08715705022', 'beeen', 'above', 'strong', 'slippers', 'semi', 'ymca', 'beside', 'independence', 'suganya', 'prefer', 'claypot', 'orange', '0776xxxxxxx', 'american', 'accordingly', 'fool', 'book', 'too', 'textoperator', '1lemon', 'gigolo', 'goodfriend', 'queries', 'loooooool', 'milta', 'upgrading', 'leona', 'hvae', 'yup', 'finishd', 'abroad', 'power', 'bollox', 'shrink', 'hit', 'naked', 'test', 'education', 'forgets', 'garments', 'pa', 'solved', 'talk', 'reply', 'fuelled', 'ofå', 'curious', 'horny', 'lei', 'bone', 'honeybee', 'clear', 'theplace', 'cstore', 'it', 'crammed', 'hittng', 'high', 'ola', 'colany', 'every', 'callcost', 'piggy', 'trips', 'mids', 'infact', 'crucial', 'afew', 'nanny', 'etlp', 'couldnåõt', 'paper', 'wings', 'gower', 'alian', 'exposes', 'pod', '09058094454', 'constant', 'sister', 'mat', 'should', 'hol', 'mca', 'ads', '09058094597', 'turned', 'dooms', 'ref', '69855', 'pobox365o4w45wq', 'jeevithathile', 'secretly', 'stopbcm', 'cttergg', 'driver', 'wk', 'basq', 'includes', 'hiya', '09061701851', 'lovejen', 'behave', 'china', 'tried', '09066358361', 'wun', 'evr', '5226', 'begging', 'quiz', 'weirdo', 'think', 'foley', '150', 'priya', 'realy', 'numbers', 'purse', 'nearer', 'moved', 'sday', 'jolly', 'advice', 'porridge', 'pixels', 'bruv', 'choices', 'hours', 'in', 'gives', 'exe', 'woul', 'tessy', 'sized', 'tgxxrz', 'retrieve', 'carpark', 'sound', 'tightly', '1er', 'andros', 'splashmobile', 't4get2text', 'theyre', 'noe', 'asia', 'ringing', 'kingdom', 'module', 'bettr', 'prayers', 'planet', 'apply', 'weekend', 'online', 'masters', 'grasp', 'lv', 'champ', 'concentrate', 'basket', 'ctla', 'sorrows', 'got', 'found', '4qf2', 'outl8r', '9307622', 'nottingham', 'travelled', 'nhs', 'regalportfolio', 'inlude', 'rather', '07786200117', 'yummmm', 'help08718728876', 'fear', 'iknow', 'chuckin', 'mb', 'bong', 'mahal', 'horrible', 'howz', 'janinexx', 'monkeys', 'bellearlier', 'imagine', 'footie', 'spot', 'babe', 'whether', '08452810073', 'acted', 'wa14', '5free', 'events', 'hari', 'brings', '2morow', 'smth', 'bettersn', 'secure', 'to', 'citylink', 'missed', 'winner', 'purchase', '1mega', 'frndshp', 'birthdate', 'wkent', '2years', 'smokin', 'ntimate', 'that', 'avin', 'bathing', 'vry', 'wonder', 'revealed', 'j5q', 'unsub', '07090298926', 'answering', 'advise', 'thursday', 'thread', 'fne', 'd3wv', 'urmom', 'grocers', 'brilliantly', 'converted', 'fighting', 'discussed', 'chez', 'athome', 'pool', 'loyalty', 'texting', 'schools', 'avo', 'bad', '83355', 'sense', 'flaky', 'kegger', '1327', 'halloween', 'nuclear', 'roommates', 'world', 'insha', 'devouring', 'luton', 'pobox334', 'natalie2k9', 'jsco', 'means', '786', 'img', 'houseful', 'ollu', 'fone', 'jsut', 'content', 'oic', 'forevr', 'annoyin', '02085076972', 'smeone', 'ree', 'yoga', 'playin', 'mistakes', '6ish', 'gbp5', 'schedule', '5we', 'king', 'novelty', 'openin', 'yoyyooo', 'customersqueries', 'accidant', 'clarification', 'complain', 'receipts', 'becomes', 'air1', 'breath', 'annoying', '30', 'sitter', 'places', 'eaten', '69888', 'french', 'drpd', 'whereare', 'prakasamanu', 'selfindependence', 'guides', 'como', 'ctargg', 'gf', 'sherawat', 'missionary', 'monthly', 'spook', 'smile', 'stil', 'stealing', 'harish', 'thangam', 'teacher', 'wrk', 'vatian', 'allow', '0871', 'division', '0871277810810', 'brum', '09061702893', '08719899217', 'tirunelvai', 'broadband', 'sips', 'ummifying', 'butting', '08000407165', 'shortage', 'vewy', 'liquor', 'frndz', '6missed', 'astne', 'hrs', 'champlaxigating', 'impede', 'sorrow', '09061743806', 'hopeful', 'agree', 'gotany', 'latelyxxx', '08707509020', '07781482378', 'ts', 'specific', '4t', 'unconsciously', 'relation', 'outreach', 'system', 'frnd', 'like', 'rentl', 'eruku', 'interest', 'unconscious', 'eating', 'fall', 'gravity', 'po19', 'charity', 'raed', '3230', 'buying', 'footbl', 'bam', 'pimples', 'importantly', 'aren', 'holy', 'finished', 'tooo', 'hustle', 'coffee', 'uh', 'pobox12n146tf150p', 'road', 'jamz', 'allows', '08081560665', '01223585236', 'intelligent', 'instantly', 'tddnewsletter', 'jaklin', 'xam', 'pokkiri', 'walkin', '12hrs', 'strtd', '1pm', '3wks', '88066', 'find', 'ignorant', '89555', 'an', 'hudgi', 'espe', 'ouch', 'abnormally', '09066612661', 'forward', 'parish', 'pendent', 'shortcode', 'latr', 'leh', 'data', 'half8th', 'shanghai', 'unsold', 'possessiveness', 'fight', 'prize', 'sw73ss', 'accident', 'mentionned', '2c', '11mths', 'due', 'warming', 'prizeswith', 'jason', 'uterus', 'pile', 'within', 'asian', 'complacent', 'snot', 'gynae', 'action', 'aathi', '4thnov', 'evn', 'l8er', 'voicemail', '3mins', 'gumby', 'recycling', 'outta', 'lovable', '08718727870', '2day', 'blind', '2nite', 'fa', 'ntwk', 'grace', 'inch', 'fuckin', 'n9dx', 'super', 'checkmate', 'hilarious', 'dl', 'lists', 'removed', 'bubbletext', 'meets', 'applausestore', 'while', 'd', 'xchat', 'telling', 'hiding', 'inever', 'replacement', 'describe', 'strips', 'suffers', '69866', 'entertaining', 'might', 'rcvd', 'hooch', 'sunny', 'wamma', 'tackle', 'happen', 'excuses', 'charts', 'now', 'restrictions', 'dats', 'greece', 'motivating', 'identification', 'tear', 'rayan', '86688', 'vinobanagar', 'generally', 'maps', 'ertini', 'available', 'costs', '08708034412', 'cherish', 'enc', 'sary', 'cola', '145', 'btwn', 'yar', 'fran', 'dirty', 'tuth', 'educational', 'åômorrow', 'ldew', 'litres', 'trouser', 'lindsay', 'fusion', '087187262701', 'crashing', 'vijay', 'gimme', 'landing', 'ac', 'bank', 'phone', 'optin', 'allowed', 'cliffs', 'textbook', 'hanging', 'readiness', 'amanda', 'afraid', 'fgkslpopw', 'jorge', 'flirting', 'nope', 'pathaya', 'gifted', 'adventuring', 'mi', 'swalpa', '10am', 'sw7', 'petrol', 'refreshed', 'desperate', 'yetunde', 'replied', 'warned', 'smells', 'hopeu', 'talkbut', 'vday', 'slightly', 'crushes', 'pansy', 'luckily', 'rdy', 'womdarfull', 'cops', 'txtstop', 'åòit', 'pleassssssseeeeee', 'anybody', 'kick', 'arrived', 'rayman', '89123', 'conected', 'dice', 'tor', 'evng', 'wlcome', 'height', 'fats', 'want', 'hotels', 'village', '08002988890', 'icic', 'attach', 'tampa', 'thout', '08701417012150p', 'snake', 'borrow', 'callin', 'erode', 'ride', 'investigate', 'another', 'dat', 'golf', 'delay', 'elama', 'imposter', 'reboot', '08450542832', 'cos', 'incorrect', 'bite', '910', 'gist', 'gnun', 'thirtyeight', 'goin', 'pt2', 'granted', 'entrepreneurs', 'nte', 'jocks', 'coughing', 'commit', 'la', 'deciding', 'participate', 'violence', 'logos', '07973788240', 'songs', 'anyplaces', 'hdd', '0870241182716', 'situation', 'various', 'silently', 'bec', '09061701461', 'self', 'cw25wx', 'bitching', 'shouting', 'frndship', 'stock', 'boltblue', 'saucy', 'fancies', 'premium', '2667', 'breathing', 'belly', 'chest', 'wellda', 'nydc', 'asap', 'give', 'responsible', 'hubby', 'poet', 'flower', 'appreciated', 'diesel', 'live', 'clarify', 'versus', 'uptown', '09064017305', 'ppm', 'txting', 'hidden', '09066368327', 'tensed', 'yijue', 'away', 'dark', 'pro', 'ended', 'noise', 'spanish', 'satisfied', '1030', 'everyso', 'oyster', '08714712394', 'bailiff', 'display', 'cld', '2channel', 'tired', 'spoiled', 'recd', 'ovulate', '88877', 'pence', '41685', 'alcohol', 'ard', '200', '1000', 'happens', 'opinion', 'fgkslpo', 'promised', 'basic', 'ga', 'laid', 'urgh', 'erm', 'call09050000327', 'polys', 'doke', 'showers', 'resizing', 'representative', 'senor', 'jones', 'back', 'upon', 'swatch', 'questioned', 'partner', 'dates', 'wining', 'catching', 'meetin', 'dvd', 'shows', '125', 'cheaper', 'lookatme', 'less', 'inside', 'oxygen', 'starshine', 'bottom', 'jiu', 'evaporated', 'sweetie', 'once', 'pandy', 'determine', 'moments', 'eastenders', 'goodmate', 'frog', 'listened2the', 'backdoor', '09066361921', 'medical', 'diamonds', 'ldn', 'keralacircle', '08712402578', 'sheet', '09066382422', 'helloooo', 'pix', 'hardly', 'bro', 'm60', 'mone', 'refilled', 'party', 'popcorn', 'hop', 'his', 'tattoos', 'truck', 'admission', 'remove', 'brother', 'some', 'happily', 'shagged', 'taxt', 'since', 'sathya', '1000s', 'arises', 'syria', 'risks', 'blimey', 'tok', 'pls', 'desparate', 'popped', 'say', 'week', 'ffffuuuuuuu', '542', 'tops', 'til', 'mjzgroup', 'laughs', '1cup', 'germany', 'merry', 'went', 'redeemed', 'hellogorgeous', 'answerin', 'nat', 'truro', 'nurses', 'rich', 'description', 'randomlly', 'telediscount', 'okie', 'entered', 'bedroom', 'luvd', 'nudist', 'enuff', 'sack', '5', 'references', 'your', 'remixed', 'firsg', 'lucy', 'leaving', 'strike', 'systems', 'lunsford', 'torch', 'owe', 'allo', 'visitor', 'jordan', 'haircut', 'muchxxlove', 'norm150p', 'bridal', 'scammers', '2go', 'chickened', 'whats', 'lonely', 'increments', 'corvettes', 'mth', 'durham', 'quite', 'mundhe', 'orh', 'lounge', 'grinule', 'donno', 'ipad', 'anjola', 'conform', 'man', 'mallika', '24m', '87021', '3gbp', 'sux', 'cooked', 'rawring', '05', 'bored', 'official', 'worst', 'grownup', 'wave', '08717507382', 'outsider', 'bf', 'noun', 'couch', 'previously', 'only1more', 'arng', 'sunday', 'computational', 'receivea', 'mens', 'must', 'yr', 'twelve', 'duvet', 'sounding', 'knickers', 'passionate', 'class', 'u4', 'electricity', 'ogunrinde', 'dollar', 'kill', 'nutter', 'lion', 'weasels', 'mk45', '28days', 'franxx', 'groovy', 'shipped', 'dt', 'alrite', 'partnership', 'tmorrow', 'moral', 'yes', 'arestaurant', 'ie', 'surfing', 'remembr', 'films', 'hills', 'resort', 'bcm', 'traffic', 'hogolo', 'goodtime', 'kisi', 'ganesh', '07732584351', 'dungerees', 'ip4', '1stchoice', 'soz', 'version', 'verify', 'swann', 'duo', 'blankets', 'gotten', '945', 'stone', 'tendencies', 'gauti', 'sip', '08718726978', 'drunkard', 'morphine', 'qi', '20p', 'othrs', 'shiny', 'egg', 'perpetual', 'avatar', 'completed', 'responce', 'hug', '12hours', 'spending', 'way', 'best', 'indyarocks', 'were', '078498', 'thank', 'payback', 'accent', 'topic', 'sed', 'maths', '09063458130', 'locations', 'wild', 'jeremiah', 'wkend', 'px3748', 'okmail', 'math', 'audrie', 'lionm', 'fatty', 'unredeemed', 'explicit', 'maybe', 'spoke', 'depressed', 'st', 'wishin', 'mailed', 'loko', 'gamestar', 'fundamentals', 'trainners', 'real', 'kaiez', 'move', 'pooja', 'dao', 'puzzles', 'apologize', 'spree', 'glo', 'mquiz', 'spark', 'mon', 'shy', 'decorating', 'loads', 'peace', 'plm', 'rhythm', 'inviting', 'styles', 'unusual', 'rebel', 'confidence', 'happend', 'mahfuuz', 'guys', 'running', 'claire', 'company', 'snoring', 'stones', 'x49', 'hella', 'lip', 'tons', 'oil', 'requests', 'brb', 'thankyou', 'wadebridge', 'anthony', 'argh', 'surrounded', 'underwear', '80878', 'achan', 'done', 'knees', 'leave', 'hlday', 'dict', 'immunisation', 'friday', 'swap', 'dem', 'stylish', 'monos', '505060', 'vouchers', 'canlove', 'crash', 'disasters', 'gettin', '21st', '6', 'transfr', 'tank', 'ill', 'wah', 'transport', 'minus', 'request', 'barely', 'loan', 'ûï', 'handsome', 'comprehensive', 'name', 'maraikara', 'box334sk38ch', 'election', 'caught', '1win150ppmx3', 'fones', 'trip', 'map', 'honi', 'bit', 'radiator', 'studdying', 'advising', 'next', 'ofice', 'picsfree1', 'notified', 'want2come', 'cut', 'maat', 'smart', 'bag', 'open', '50pm', '114', 'predicting', '400', 'number', 'teresa', 'jess', 'bergkamp', 'services', 'overemphasise', 'anyone', 'water', 'sdryb8i', 'ho', 'pub', 'cal', 'father', 'speeding', 'tt', '09064019014', 'lovely', 'busetop', '60p', 'hardcore', 'paths', 'remember', 'der', 'vid', 'throat', '85555', 'curtsey', 'marrge', 'entropication', 'cutting', 'missin', 'nitro', 'our', 'nigro', '6months', 'sick', 'cnl', 'grins', 'transaction', 'priscilla', 'stubborn', 'messaging', 'risk', 'jontin', 'useless', 'eight', 'bell', 'ave', 'evening', 'recently', 'drama', 'princes', 'anniversary', 'spiffing', 'rajnikant', 'blue', 'renewing', 'bein', '42810', 'fraction', '02', 'sha', 'prakesh', 'carly', 'comp', 'gmw', 'weekly', 'shitload', 'given', 'bookshelf', 'yalrigu', 'tunde', 'denis', 'lecture', 'cast', 'also', '8000930705', 'disappeared', 'surya', 'stamps', 'february', 'spacebucks', 'lor', 'abdomen', 'applyed', 'murali', 'aging', '5k', 'shld', 'stupid', 'sugababes', 'contacted', 'cooped', 'fainting', 'lt', 'coincidence', 'ente', 'reformat', 'bbdeluxe', 'can', 'jobs', 'scary', 'formal', 'puttin', 'dramastorm', 'expression', 'golden', 'chgs', 'iouri', '0870737910216yrs', 'pierre', 'lowes', 'amused', 'jesus', 'answr', 'getzed', 'accidentally', '08715203685', 'zealand', '3650', 'lik', 'xclusive', 'ortxt', '0808', 'lead', 'danger', '08712317606', 'aletter', 'names', '24hrs', 'chatlines', '5years', 'outage', 'mys', '6wu', '09050001808', '13', 'shb', 'amongst', 'hassling', 'totally', 'resend', 'pretend', 'nat27081980', 'packs', 'oble', 'juliana', 'league', 'experience', 'mag', 'whore', 'competition', 'wrench', '08701237397', '09071512433', 'glands', 'theory', 'harry', '2morrow', 'section', 'white', 'than', 'shoes', '09061701444', 'wanna', 'rice', 'bother', 'station', 'regarding', '3lions', 'jan', 'noice', '2003', 'slow', 'doesdiscount', 'mnths', 'feels', 'flyng', 'aunts', '326', 'aunties', 'max10mins', 'ela', 'spinout', 'replying', 'blastin', 'secs', '86021', 'sway', '08002986030', 'fizz', 'buns', 'farting', 'intentions', '09095350301', 'euro', 'alto18', 'weekdays', 'hes', 'edison', 'andres', 'dump', 'hand', 'fixed', 'thekingshead', 'sun', 'cudnt', 'stranger', 'ourbacks', '31', '09063442151', 'iwas', '08712405020', '448712404000', 'dozens', 'dint', 'hows', 'boss', 'net', 'teaching', 'nimbomsons', 'slices', '09061743386', 'tenerife', 'randomly', 'ultimately', 'getting', '0871277810910p', 'chef', 'olowoyey', '2getha', 'rally', 'from', 'drug', 'band', 'bsnl', 'wonders', 'bakra', 'aphexåõs', 'fond', 'dose', 'barred', 'guy', 'mins', '89070', 'neighbor', 'yogasana', 'walk', 'cliff', 'la1', 'features', 'iscoming', 'ahold', 'weakness', 'torrents', 'mina', 'contribute', 'understood', 'threw', 'crowd', 'andre', '2nhite', 'bold2', 'nr31', '350', '9061100010', '08701213186', 'invoices', 'suppliers', 'colourful', 'spring', 'misundrstud', 'user', 'm8', 'temple', 'finalise', '8p', '08701752560', 'alone', 'waliking', 'dammit', 'atrocious', 'kg', 'unlike', '1', 'bites', 'takin', 'tcs', 'juswoke', 'inconsiderate', 'sleepin', 'sachin', 'accept', 'kinda', 'change', 'divert', 'down', 'zhong', 'significance', '1x150p', 'thriller', 'stopped', 'necessity', 'glory', 'when', 'poorly', 'wishes', 'ne', 'telphone', 'vary', 'surname', 'followed', 'first', 'minutes', 'domain', '08706091795', 'send', 'skyped', 'ls15hb', 'admin', 'compliments', '3680', 'secrets', 'straight', 'peach', 'safe', 'long', 'hun', 'shracomorsglsuplt', 'bucks', 'agents', 'menu', 'towards', '35p', 'shampain', 'recharge', 'specially', 'tour', 'ok', 'closer', 'win150ppmx3age16', 'lifted', 'chain', 'slave', 'vote', 'wa', 'objection', 'force', 'balls', 'lol', 'talking', 'wherevr', 'stash', 'twinks', 'furniture', 'uncle', 'idiot', 'watever', 'alex', 'lady', 'citizen', '2yr', 'chloe', '09099726429', 'female', 'subs', 'walked', 'pants', 'biola', 'custom', 'lit', 'together', '440', 'rents', 'caps', 'cthen', 'woah', 'likely', 'bring', '30s', 'language', 'attraction', 'hp20', 'surprised', 'beyond', 'records', 'tonght', 'essential', 'fools', 'dance', 'second', 'remembered', 'la3', 'pobox114', 'score', 'beloved', 'weed', 'named', 'papers', 'clearing', 'limited', 'doors', 'inner', 'videosound', '82050', 'ava', 'sum1', 'oscar', 'google', 'settle', '62220cncl', '30th', 'msg', 'converter', 'own', 'selling', 'tactful', 'asusual', 'characters', 'james', 'web', 'supervisor', 'outs', '200p', 'total', 'cnn', 'slovely', 'passport', 'navigate', 'earliest', 'challenging', 'shahjahan', 'subscriber', 'spent', 'def', 'onwards', 'science', 'brin', 'dreamz', 'kissing', 'hogidhe', 'x', 'money', 'html', 'meanwhile', 'pours', 'virgins', 'points', 'poly3', '2wu', 'tyrone', 'box334', '88039', 'flies', 'mega', 'zaher', 'tenants', 'overdid', '78', 'sankranti', 'boundaries', 'lionp', 'run', 'again', 'subletting', '645', 'darlings', 'predict', 'badly', 'beneath', 'witot', 'arguing', 'rumour', 'corect', 'fed', 'tranquility', 'latest', 'gopalettan', 'lotz', 'necesity', 'complete', 'harder', 'prepared', 'sign', 'wildest', 'rubber', 'brdget', '2309', 'noon', 'meal', 'hanger', '09065989180', '820554ad0a1705572711', 'dreading', 'orchard', 'realise', 'post', 'aaniye', 'munsters', 'uni', 'puzzeles', 'duffer', 'luks', 'thesmszone', 'potential', 'bud', '8077', 'iq', 'heads', 'twenty', 'reckon', 'mummy', 'intro', 'based', 'cm2', 'printed', 'sleepwell', 'piece', 'refused', 'bbq', 'century', 'sambar', 'symptoms', '09064012160', 'plus', 'feeling', 'cross', 'fondly', 'alfie', 'prsn', 'taking', 'kind', 'lttrs', 'thatmum', 'double', 'lap', '08002888812', 'weirdest', 'equally', 'dental', 'tix', '08700621170150p', 'yhl', 'telly', 'rakhesh', 'rt', 'blackberry', 'bigger', 'ag', 'help', 'box39822', 'xt', 'db', 'recount', 'boyfriend', 'values', 'trusting', 'sort', 'mtmsg', 'bsn', 'scratches', 'shared', '087123002209am', 'window', 'vco', 'car', 'being', 'polo', 'cttargg', 'footy', 'humans', '08452810071', 'bleh', 'legs', 'serena', 'sky', 'scrumptious', 'needed', '28thfeb', 'slurp', 'between', 'jerry', 'receiving', 'preferably', 'each', '89545', 'everyones', 'askin', 'brothas', 'mack', 'mail', 'classes', 'olave', 'gr8prizes', 'reset', 'fetch', 'returned', 'betta', 'mother', 'psychic', 'unique', 'noisy', 'working', 'am', 'swt', 'burgundy', 'bed', '50', 'causing', 'themob', 'toll', 'meeting', 'babyjontet', 'romantic', 'tap', 'txt43', 'nordstrom', 'urgoin', 'hep', 'act', 'though', 'situations', 'gudnite', 'apps', 'prominent', '1winawk', 'blokes', '09050090044', 'elaya', 'isnt', 'record', 'fromm', 'shorter', 'ummma', 'tonight', 'yun', 'forwarding', 'hungover', 'parco', 'dust', 'ennal', 'smartcall', 'helens', 'rooms', 'breaker', 'terry', 'ovarian', 'press', 'ink', 'index', 'captain', 'teeth', 'messy', 'gprs', 'chinchillas', 'path', 'readers', 'games', '40gb', 'accenture', 'thandiyachu', 'correct', 'certainly', 'asking', 'cheat', '08', 'slip', 'lifting', 'voucher', 'astrology', 'careless', 'whenevr', 'actually', 'askd', 'chg', 'imat', 'changed', 'ext', 'em', 'xxuk', 'difficult', 'club4', 'other', 'responsibility', 'coins', 'nok', 'somewhat', 'ecstasy', 'ls278bb', 'spjanuary', 'ringtones', 'studentfinancial', 'coin', 'f4q', 'timings', 'gre', 'misss', 'textpod', 'buddys', 'ugadi', 'hex', '09066358152', 'ammo', 'heron', 'seat', 'simulate', 'limit', 'sucks', 'moan', 'manual', 'derp', 'easy', 'mind', 'port', '08000776320', 'title', 'laugh', 'tomeandsaid', 'avenue', 'famous', 'ikea', 'sub', 'reality', '2waxsto', 'canåõt', 'voted', 'delete', 'percentages', 'buff', 'garden', 'penny', 'location', 'analysis', 'text', 'classic', 'intha', 'addicted', 'embassy', 'strange', 'disclose', 'error', 'rental', 'difficulties', 'linear', 'muah', 'oredi', 'camera', 'anal', 'accessible', 'group', 'weird', 'sptv', 'sooner', 'mates', 'ias', 'hogli', 'witin', 'tiwary', 'oli', 'ami', 'celebrations', 'freak', 'alter', 'c', 'pos', 'flurries', '9758', 'summers', 'model', 'just', 'peak', 'turning', 'onum', 'dub', 'covers', 'soryda', 'intend', 'ripped', 'thesis', 'men', 'prizeawaiting', 'sex', 'tsunami', 'extreme', 'fills', 'onluy', 'way2sms', 'terminated', 'irritated', 'free', 'l8rs', 'stomps', '220cm2', 'ifink', 'filthy', '2lands', 'eerulli', 'slp', 'networks', 'the4th', 'installation', 'drunk', '4403ldnw1a7rw18', 'unsubscribed', 'connected', 'stayin', 'oni', 'johnåó', '02073162414', 'july', 'explosive', 'flame', 'devils', 'picture', 'forwarded', 'forgotten', 'community', 'mystery', 'biz', 'sweater', 'loyal', 'stockport', 'secretary', 'dirtiest', '09061221066', 'hot', 'sumthin', '730', 'iam', 'doesnåõt', '62735', 'meetins', 'hold', 'tee', 'thesedays', 'ìä', 'keys', 'ubi', 'billy', 'porn', 'ke', 'customer', 'drinking', 'paperwork', 'plate', 'tirunelvali', 'guilty', 'dealing', '09090900040', 'secret', 'girlfrnd', 'minnaminunginte', 'dearer', 'nattil', 'hum', 'dhina', '139', 'widelive', 'promoting', 'c52', 'optout', '1013', 'somebody', 'chances', 'appendix', 'britney', 'topped', 'havenåõt', 'yrs', 'bought', '8', 'chat', 'contract', 'alibi', '08715203652', 'ofstuff', 'bcmsfwc1n3xx', 'portal', 'workage', 'membership', 'replies', '80122300p', 'phrase', 'truble', 'adewale', 'tcr', 'downloads', '68866', 'kintu', 'weddin', '3000', 'yuo', 'fumbling', 'addamsfa', 'very', 'among', 'never', 'mtnl', '83049', '30ish', 'ages', 'box326', 'contention', 'develop', 'tram', 'kickoff', 'sochte', 'nag', 'spl', 'improve', 'issue', 'people', 'reaching', 'convincing', 'searching', 'haha', 'squeezed', 'shoving', 'fun', '07008009200', 'flaked', 'wotz', 'eå', 'sterling', '434', 'thatåõscool', 'burrito', 'drinkin', 'reserves', 'hands', '08718738034', 'prince', 'genes', 'awesome', 'aeroplane', 'religiously', 'dependents', 'opportunity', 'jaz', '09050005321', 'coherently', 'coping', 'missy', 'wife', 'loo', 'formatting', 'awww', 'hmv', 'vale', 'comuk', 'calculation', 'registered', 'go', 'beauties', '08717111821', 'stocked', 'ûªm', 'wherre', 'fulfil', 'tune', 'possessive', 'gardener', 'environment', 'e14', 'suprman', 'invnted', 'bluetoothhdset', 'tickets', 'pleasure', 'uncomfortable', 'stage', 'incomm', 'lyk', 'this', 'present', 'sweatter', 'confuses', 'supreme', '09066350750', 'shoulders', 'bfore', 'halla', '66', 'ld', 'monkeespeople', 'daddy', 'callfreefone', 'herself', 'count', 'quiteamuzing', 'gaze', 'carlie', '09064011000', 'um', 'bitch', 'thanksgiving', 'hunks', 'problem', 'mad', 'disconnect', 'dracula', 'lotta', 'freeentry', 'attention', 'bray', 'bullshit', 'madam', 'meow', 'claim', 'cricket', 'eve', 'middle', 'jokes', '4w', 'sorts', 'suman', 'attributed', 'smiles', 'onam', 'notice', 'oral', 'claimcode', '3mobile', 'webpage', '3510i', 'curfew', 'trouble', 'hasn', 'spirit', 'mum', 'of', 'silly', 'visit', 'nearly', 'b4190604', 'owl', 'giving', 'fucked', 'massages', 'become', 'remembrs', '08452810075over18', 'vettam', 'med', 'yards', 'envelope', 'vomitin', 'via', 'scream', 'handing', 'uhhhhrmm', 'panties', 'fullonsms', 'italian', 'dawns', 'masteriastering', 'rumbling', 'maintain', 'chaps', 'floating', 'goodmorning', 'buzy', 'facebook', 'kfc', 'envy', '08709501522', '6zf', 'bc', 'shun', 'cst', 'num', 'talents', 'pictures', '09050000878', 'restocked', 'gals', '7250i', 'ayn', 'videophones', 'affection', 'calls1', 'ors', 'lyf', 'darkest', 'brand', 'box385', 'age', 'slots', 'card', 'valued', 'dino', 'bani', 'sooooo', 'hair', 'canal', 'conveying', 'mp3', 'particularly', 'arrested', 'snow', 'manchester', 'babysit', 'buses', 'interested', 'ran', 'project', 'university', '2stop', 'adds', 'utter', 'has', 'ryan', 'algorithms', 'eveb', 'snogs', 'side', 'packing', 'cried', 'sneham', 'shirt', 'melody', 'dnt', 'wating', '69669', 'lst', 'slowly', 'tasts', 'degrees', 'leftovers', 'cloth', '08712400200', 'horo', 'wana', 'reminding', 'stop2', 'merely', 'attempt', 'paru', '84128', 'invention', 'crossing', 'talks', 'shu', 'nw', 'mofo', 'fetching', '09058097218', 'tim', '08081263000', 'aah', 'nxt', 'applying', 'these', 'walking', 'sleep', 'whos', 'hurt', 'safely', 'lyricalladie', '07', 'geeeee', 'hourish', 'largest', 'winning', 'suggestions', '1st', 'wasn', 'begun', '36504', 'showered', 'glass', '8lb', 'rael', 'getiing', 'answered', 'closeby', 'pm', 'howda', 'rays', 'network', 'fired', 'newsletter', 'canname', 'well', 'sura', '10k', 'skinny', 'wikipedia', 'howard', 'hoody', 'bimbo', 'lager', 'justify', 'ghost', 'things', 'smsing', 'hundreds', 'hates', 'gate', '373', '3xå', 'm227xy', 'gona', '530', 'posh', 'worried', 'zoom', 'haf', 'ashwini', 'rodds1', 'vaguely', 'ger', 'daytime', 'spend', 'whose', 'patients', 'upto', 'teletext', 'holla', 'pobox36504w45wq', 'echo', 'rocks', 'roles', 'ponnungale', 'weak', 'emc1', 'cash', 'ft', 'residency', 'faded', 'idps', 'broad', 'bognor', 'respectful', 'couldn', 'wrongly', 'pesky', '08002986906', 'feellikw', 'margin', '50perweeksub', 'sight', 'quickly', 'supose', 'nights', 'computers', 'ew', 'chastity', 'rule', '83738', 'sterm', 'developed', 'its', 'arngd', 'noncomittal', 'ritten', 'stuffed', 'looked', 'subscriptions', 'whr', 'sextextuk', 'yourinclusive', 'apeshit', 'qing', 'gave', 'successfully', 'evenings', 'iz', 'spoken', 'buzz', 'cust', 'violet', 'refund', 'satanic', 'gon', 'whom', 'singing', 'predicte', 'sf', 'they', 'excited', 'shijas', 'console', 'broken', 'let', 'worries', 'beers', 'apartment', 'professors', 'police', 'jstfrnd', 'neway', 'grahmbell', 'scold', 'closes', 'disturbing', 'eng', 'hi', 'colleagues', 'cr9', 'xxxxxxxx', 'diff', 'shame', 'share', 'gets', 'dealer', 'nuerologist', 'escalator', 'fires', '84122', 'discount', 'wil', 'roger', 'glasgow', 'scarcasim', 'fieldof', 'tiz', 'sing', 'maneesha', 'casualty', 'sd', 'stands', 'expiry', 'crickiting', 'copy', 'surely', 'aå', 'important', 'used', '28th', 'cupboard', 'unfortuntly', 'exmpel', 'txt', 'memorable', '08718738001', '800', '09071512432', 'treat', 'inches', 'postponed', 'bat', '0845', '5p', 'nokia6650', 'box1146', 'remb', 'individual', 'saibaba', 'hon', 'cuddled', 'noline', 'uawake', 'collection', 'goodies', 'dusk', 'dorm', 'marketing', 'arabian', 'shd', 'table', 'plumbing', 'ì', 'fact', 'kate', 'boston', 'eventually', 'sol', 'neo69', 'homeowners', 'yeah', 'zeros', 'walkabout', 'sometimes', 'ba', '4ward', 'rose', 'favorite', 'wrkin', 'na', 'feathery', 'dad', 'foregate', '44', 'time', 'cage', 'update_now', 'freephone', '08704439680ts', 'opted', 'spoil', 'suitemates', 'practicum', 'aids', 'asleep', 'soo', 'hui', 'irulinae', 'profit', 'wherever', 'thanks2', '82277', 'heavily', 'those', 'fastest', 'beneficiary', 'ed', 'there', '49557', 'savamob', 'errors', 'meaningless', 'instead', '4882', 'thirunelvali', 'performed', 'plenty', 'pushes', '1250', 'hello', 'rg21', 'without', 'bar', 'skilgme', 'caroline', '100p', 'hoped', 'ppl', 'fat', 'gong', 'satisfy', 'yan', 'smoothly', 'clearer', 'dr', 'ball', 'crap', 'typical', 'hugging', 'permanent', 'tui', 'rwm', 'yest', 'everywhere', 'personal', 'west', 'slice', 'lecturer', 'drunken', 'reading', 'malaria', 'ko', 'bloo', '09701213186', 'roommate', 'nighters', 'sheffield', 'nyt', 'checked', 'earning', 'nimya', 'bmw', 'be', 'childish', 'coach', '0906346330', 'coveragd', 'dramatic', 'downs', 'faith', 'oblisingately', 'sim', 'ayo', 'pert', 'jap', 'abiola', 'hire', 'winds', '021', 'didnåõt', 'saturday', 'name1', 'tnc', '121', 'companies', 'arun', 'jot', 'gucci', 'laughed', 'uks', 'neshanth', 'show', 'jo', 'jabo', 'wrecked', 'inclu', 'vl', 'get4an18th', 'hr', 'imp', 'stories', 'otherwise', 'full', 'sept', 'bowa', 'near', 'term', 'unbelievable', 'bears', 'row', 'seeking', '50ppm', 'hip', 'settled', 'then', 'vipclub4u', 'selfish', 'luxury', 'interesting', 'response', 'photoshop', 'swear', 'sure', 'roads', '100txt', 'win', 'charlie', 'eyed', 'saristar', 'kl341', 'ham', 'lifeis', 'passed', '3xx', 'senthil', 'dhanush', '69911', 'magic', 'goodevening', 'nichols', 'bangbabes', 'happier', 'speak', 'perform', 'crashed', 'bcoz', '61', 'granite', 'dough', '20m12aq', 'listener', 'rencontre', 'agidhane', '850', 'courageous', 'embarassed', 'listening', 'girls', 'clue', 'inshah', '09056242159', 'l8', 'spreadsheet', 'puppy', 'mobsi', 'cake', 'login', '07742676969', 'doesn', 'kisses', 'idew', 'olympics', '09099726553', 'mesages', 'inperialmusic', '10th', '118p', 'knowing', 'ta', 'ûïharry', 'making', 'confirmed', 'wahleykkum', 'roses', 'appt', 'simpler', 'dun', 'beggar', 'manda', 'psp', 'fav', 'jia', 'pobox75ldns7', 'weekends', 'hut', 'spare', 'beehoon', 'youwanna', 'large', 'stayed', 'cannot', 'hamster', 'bandages', 'rcd', 'occur', 'anonymous', '22', 'euro2004', 'initiate', 'm95', 'scores', '1172', 'sk3', 'studying', 'takes', 'source', 'shall', 'music', 'yuou', 'messed', 'tablets', 'somerset', 'spaces', 'nange', '80182', 'bbd', 'cell', 'six', 'parents', 'lily', 'some1', 'skills', '3d', '07xxxxxxxxx', 'approaching', 'newest', '81010', '08717205546', '08712402050', 'wasted', '09058091870', 'triumphed', 'parachute', 'anot', 'costing', 'program', 'loved', 'sutra', 'journey', 'ba128nnfwfly150ppm', '1205', 'someonone', 'theater', 'vu', 'worry', 'eighth', 'parade', 'cts', 'uniform', '150ppermesssubscription', 'meive', 'aspects', 'geeee', 'watches', 'ex', 'upping', 'lines', 'ditto', 'nos', 'haiz', '08718720201', 'perumbavoor', 'wedding', 'how', '08001950382', 'logon', 'sir', 'bluray', '09061701939', 'tms', 'soon', 'ain', 'turns', 'wed', 'stitch', 'inc', '4get', 'physics', 'dubsack', 'evrydy', '02072069400', 'roast', 'natural', 'aight', 'flying', 'promotion', 'learn', 'lessons', 'woke', 'suite342', 'apologise', 'seconds', 'passwords', 'avoids', 'hen', 'er', 'advisors', 'favor', 'genius', 'sipix', 'dangerous', 'adventure', 'lucozade', 'ideal', 'address', 'organizer', 'funk', 'door', 'video', 'yesterday', 'svc', 'compromised', 'ikno', 'msging', 'muz', 'dining', 'doggin', 'learned', 'reminder', 'church', 'freemsg', 'practising', 'ubandu', 'pop', 'chillaxin', '09094646899', 'tiempo', 'cardiff', 'bars', '11', 'railway', 'wif', 'weren', 'inspection', 'yi', 'booked', 'darren', 'bathroom', 'soiree', 'chechi', 'datebox1282essexcm61xn', 'iåõd', 'pobox1', 'parchi', 'willing', 'afternoons', 'humanities', '08712103738', 'excused', 'allalo', 'whenever', 'apples', 'wnt', 'lush', 'erotic', 'page', 'knew', '4jx', '08717895698', 'seing', 'beauty', 'isnåõt', 'dancing', 'reasons', '3g', 'return', 'prevent', 'phonebook', 'grumpy', 'status', 'cares', 'oops', 'xin', '42049', 'cyclists', 'sprint', 'blanked', 'babes', 'abel', 'smith', 'youåõre', 'drugs', 'stars', 'watevr', 'laurie', 'kodthini', 'arithmetic', 'jeri', 'responding', 'neville', 'mandan', 'proof', 'shattered', 'repeating', '45pm', 'hava', 'fair', 'alerts', '07880867867', '2nd', '07099833605', 'ralphs', 'huge', 'box434sk38wp150ppm18', 'giggle', 'trends', 'drove', 'abusers', 'ahhh', '7th', 'theirs', 'wildlife', 'anything', 'ab', 'missing', 'teams', 'movie', 'offc', 'shaved', 'which', '87077', 'wifes', 'muht', 'blessings', 'sup', 'toaday', 'thin', 'slept', 'public', 'thanx', 'cheer', 'mood', 'contents', 'toughest', 'donate', 'top', 'mitsake', 'exhausted', 'poor', 'exp', 'start', 'sunroof', 'drms', 'defer', 'pen', 'wondering', 'acknowledgement', 'elections', 'dependable', 'bills', 'dehydration', '1000call', 'dec', 'instituitions', 'worth', 'beer', 'exercise', 'pobox202', 'rewarding', 'ibh', 'oncall', 'iter', 'countin', 'carolina', '89693', 'lyrics', 'sorry', 'today', '08718730555', 'crucify', 'fujitsu', 'actor', 'saved', 'drinks', 'doc', 'hahaha', 'arts', 'minor', '82242', 'shoppin', 'shelves', 'mention', 'hillsborough', 'letter', 'epi', 'landlineonly', 'optimistic', 'wallet', 'age16', '2yrs', 'venaam', 'shorts', 'groovying', 'urself', 'eh', 'amplikater', 'kittum', 'invaders', 'living', 'ukp', 'umma', 'txtin', 'wisdom', 'clearly', 'town', '861', 'resolution', '84484', 'champneys', 'tones2u', 'realising', 'draws', 'sec', 'batsman', 'ax', '08712101358', 'breaking', 'comin', 'badass', 'kid', 'macho', 'proverb', 'joys', 'shivratri', 'stuffing', 'increase', 'kudi', 'sunshine', 'armenia', 'conversations', 'years', '4years', 'samus', 'worlds', 'wannatell', 'iåõve', 'ything', 'brilliant', 'kaypoh', 'classmates', 'revealing', 'unicef', 'played', 'leaves', 'abuse', 'wtc', 'processed', 'bevies', 'memory', 'national', 'jewelry', 'starts', 'convenience', 'arsenal', 'promo', 'sms', 'lkpobox177hp51fl', 'misbehaved', 'option', 'tkts', 'exterminator', 'shinco', 'year', 'scotsman', 'tirupur', 'hill', 'barrel', 'baby', 'repair', '18yrs', 'videosounds', '08704439680', 'mails', 'yellow', 'chachi', 'amigos', 'close', 'hostel', 'soladha', 'exhaust', 'xxxxxx', 'alaipayuthe', 'phoned', 'banks', 'staff', 'rply', 'including', 'flew', 'hoo', '7cfca1a', 'kb', 'kit', 'inr', 'relationship', 'sis', 'alive', 'chk', 'cm', '99', 'considering', 'showrooms', 'goto', 'cougar', 'previews', 'apart', 'panic', 'a30', 'ishtamayoo', 'rub', 'answer', 'toxic', 'asked', 'mumtaz', 'lim', 'hme', '09066362206', 'handed', 'nit', 'doubt', 'mw', 'sisters', 'asssssholeeee', 'threats', 'pizza', 'splendid', 'knee', 'splleing', 'don', 'min', 'expensive', 'batt', '20', 'sane', 'auto', 'hour', 'mid', '4th', 'viva', 'paining', 'law', '6230', 'received', 'monthlysubscription', '65', 'ibm', 'loses', 'aproach', 'broke', 'cuck', 'minute', 'welcomes', 'burger', '7pm', 'resubmit', 'impossible', 'obedient', '4txt', 'tlp', 'excuse', 'commercial', 'bringing', 'omg', '08701417012', 'n8', 'technologies', 'sindu', 'clas', 'coat', 'floor', 'xxxx', 'aftr', 'entry41', 'melnite', 'polyc', 'slacking', 'pongal', 'snd', 'wish', 'entertain', 'steam', 'respond', 'nvq', 'sells', 'trash', 'shakara', 'sensible', 'mas', 'kama', 'royal', 'scrappy', 'wizzle', 'seem', '09066362220', 'rhode', 'skye', 'sleepingwith', 'gastroenteritis', 'thus', 'shite', 'getstop', 'ugo', 'croydon', 'ì_', 'combination', '087147123779am', '5wkg', 'arguments', 'falling', 'south', 'se', 'suntec', 'careful', 'docs', 'poured', 'transcribing', '14tcr', 'ugh', 'approved', 'barry', 'feet', 'ramen', 'lookin', 'tall', '09058094507', 'claims', '2007', 'planned', 'erutupalam', 'strain', 'purpose', '9yt', 'anjie', 'faggot', 'celebration', 'wuld', '08715205273', 'beach', 'clover', 'eggs', 'payee', '09077818151', 'nightnight', 'sea', 'said', 'tbs', 'upgrade', '1apple', 'bslvyl', 'series', 'ms', '2px', 'forms', 'transfer', 'cd', '09061749602', 'senses', 'hont', 'si', 'yeh', 'yam', 'inpersonation', 'rtm', 'cam', 'urgently', 'jas', 'mobilesvary', 'xxsp', 'john', 'teaches', 'cumin', 'bloke', 'trueåác', 'mns', 'bugis', 'fab', 'include', 'calld', '450pw', 'cya', 'calicut', 'cant', 'crack', 'burden', 'pl', 'reception', 'logged', 'hearing', 'picked', 'waste', 'frens', '700', 'keeps', 'bulbs', 'byatch', 'pressies', 'pissed', 'fold', 'george', 'alright', '30pm', 'js', 'mj', 'thedailydraw', 'wisheds', 'lost', 'wee', 'dunno', 'tosend', 'easter', 'salam', 'vital', 'lk', 'edhae', '3', 'united', 'salmon', 'exorcist', 'play', 'rememberi', 'paris', '4u', 'dasara', 'sore', 'tech', '81151', 'owned', 'suggest', 'aiyar', 'murdered', 'swashbuckling', '80155', 'avoid', 'un', 'comedy', 'felt', 'machines', 'enna', 'been', 'edrunk', 'costume', 'rtf', 'documents', 'rejected', 'only', 'married', 'lf56', 'measure', 'syd', 'hits', 'checkboxes', 'vitamin', 'smarter', 'yet', 'greatly', 'iriver', 'havnt', 'desparately', 'anti', 'drops', 'desires', 'cr01327bt', 'quiet', 'di', 'msgs', 'hearted', 'm39m51', '80160', 'registration', '2optout', 'bday', 'dressed', 'anythin', 'summer', 'neft', 'country', '864233', 'experiment', 'sensitive', 'overdose', 'click', 'paragraphs', 'aco', 'round', 'thrown', 'million', 'thinl', '0a', 'youphone', 'box95qu', 'note', 'valuable', '80086', 'intention', 'shirts', 'january', 'smash', 'b4280703', 'dogbreath', 'tsandcs', 'improved', 'windows', 'o2', 'rightio', 'bull', 'korche', 'sem', 'evrey', '087187272008', 'boatin', 'chasing', 'mtmsg18', 'voda', 'maturity', 'gotto', 'ams', 'callcost150ppmmobilesvary', 'center', 'performance', 'aslamalaikkum', 'gauge', 'sponsors', '8027', '2mrw', 'determined', 'lonlines', 'ear', 'eh74rr', 'hangin', 'companion', 'txtauction', 'categories', 'efficient', 'hunny', 'dogg', 'algarve', 'privacy', 'machan', 'va', 'bawling', 'pases', 'wifi', 'simply', 'souveniers', 'eire', 'sucker', 'someone', 'colour', 'forgiveness', 'require', 'breathe', 'farrell', 'hell', 'insects', 'scoring', 'mtalk', 'goodnoon', '07821230901', 'tobed', '41782', 'icon', 'cookies', 'digits', 'wouldn', 'wire3', 'deepest', 'gaytextbuddy', 'annoncement', 'smiley', 'chatting', 'meds', 'bcm4284', 'lots', 'ruining', 'confirmd', 'greatness', 'anyhow', '89080', 'recent', 'deus', '128', 'walls', 'folks', 'escape', 'pulls', '08717509990', '88222', 'suddenly', 'mush', '0825', 'sian', 'or2optout', 'imposed', 'print', 'relieved', 'five', 'bak', 'brison', 'deleted', 'modules', 'wasting', 'thot', 'march', 'costå', 'river', 'kalstiya', 'monster', 'laptop', 'possible', 'ideas', 'morn', 'app', 'tooth', 'getsleep', 'gender', 'travel', 'fated', 'appeal', 'storming', 'moji', 'msgrcvdhg', 'payoh', 'blog', 'thy', 'strewn', 'becz', 'licks', 'block', 'fidalfication', 'faggy', 'film', 'taunton', 'wishing', 'brats', 'piss', 'unable', 'grl', 'norm', 'helpline', 'isn', 'triple', 'ears', 'loves', '077xxx', 'musta', 'identifier', 'guai', 'casting', 'scotland', '180', 'musthu', 'please', 'hesitant', 'canada', 'wow', 'stretch', 'w8in', 'taka', 'andrews', 'shhhhh', 'cold', 'blood', 'tomorrow', 'bk', 'cro1327', '087016248', 'news', 'recognises', 'rate', 'camp', 'thia', 'upset', 'jus', 'sang', 'reasonable', '2u2', 'dena', 'walsall', 'ever', 'u', 'tmr', '15pm', 'inclusive', 'steed', 'subject', 'algebra', 'gotbabes', 'xmas', 'millers', 'everyboy', 'consensus', 'sport', 'nor', '81618', 'birthday', 'fill', 'jide', 'hl', '2kbsubject', 'tone', 'comes', 'most', 'priority', 'mountains', 'growing', 'fantasies', 'aunt', '97n7qp', 'cock', 'experiencehttp', 'fave', 'involve', 'mobile', 'chop', 'fredericksburg', '4wrd', 'feb', 'persian', 'infront', 'died', 'dosomething', 'salt', 'over', 'mobilesdirect', 'who', 'toking', 'emerging', 'pan', 'cann', '69988', 'ish', 'breakfast', 'whatsup', 'bet', 'losers', 'cruise', 'wanting', 'varunnathu', 'dare', 'wales', 'stool', 'rock', 'raining', 'leads', 'acl03530150pm', 'kothi', 'twice', 'ma', 'fuck', 'r836', 'hmv1', 'jst', '382', 'sapna', 'z', 'gurl', 'yelling', 'sophas', 'and', 'three', 'itz', 'banned', 'lyfu', 'amrca', 'parent', 'read', '9', 'fix', 'esplanade', 'age23', 'adjustable', 'uve', 'contains', 'all', 'ericsson', 'process', '300603', 'lousy', 'cloud', 'henry', 'bloody', 'm8s', 'seeing', 'waking', 'successful', '09058094583', 'effect', 'witout', 'activ8', 'dislikes', 'starting', 'dresser', 'parantella', 'starring', 'pudunga', 'valid', 'åð', 'player', 'magical', 'bac', '2moro', 'amt', '165', '4info', 'cheap', 'hitter', 'college', '1tulsi', 'thought', 'establish', 'probthat', 'texd', 'lesser', 'figure', 'chosen', 'decimal', 'store', 'connections', 'complaining', 'family', 'yarasu', 'gravel', 'clever', 'entitled', 'flea', 'why', 'galileo', 'com1win150ppmx3age16subscription', 'prabha', 'fireplace', 'stop', 'difference', 'tie', 'purity', 'rob', 'mentioned', 'truly', 'declare', 'cancel', 'worc', '3aj', 'subscription', 'feelin', '0871277810710p', 'indian', 'grand', 'supplies', 'dieting', 'nickey', 'chile', 'dip', 'i', 'challenge', 'motive', 'success', '09064019788', 'but', 'spice', 'blank', 'premier', 'going', 'airtel', 'nap', 'definitly', 'ben', 'advance', 'spile', 'listn', 'actin', 'cr', 'camry', '09061744553', 'pax', '69101', 'alot', 'attend', 'looks', 'known', 'building', '2p', 'ken', '08718738002', 'dogging', 'ps3', 'cmon', 'future', 'tarot', 'reminded', 'oja', 'ip', 'had', 'beta', 'shopping', 'shore', 'dvg', 'here', 'rgds', 'ocean', 'zouk', 'olol', 'playing', 'yer', '4eva', 'iron', 'bomb', 'tape', 'great', 'skint', 'boat', 'gossip', 'throwin', 'lock', 'yummy', 'seven', 'w14rg', 'usc', 'japanese', 'kallis', 'huiming', 'skillgame', 'boye', 'charles', 'hv', 'raviyog', 'probably', 'bridge', 'prof', 'ihave', 'trial', 'argentina', 'edward', 'lightly', '09063440451', 'åòharry', 'csbcm4235wc1n3xx', 'wrote', 'protect', 'no1', 'okors', 'tight', 'base', '08715500022', '150ppm', 'earth', 'ful', 'relaxing', 'srsly', 'brains', 'nowadays', 'sittin', '0870141701216', 'subscribers', 'wewa', 'calculated', 'dentist', 'catch', 'rupaul', 'ctxt', 'able', 'shag', 'clark', 'starve', 'links', 'ice', 'quarter', 'haiyoh', 'range', 'moving', 'tariffs', 'idea', 'sit', 'fellow', 'speechless', 'zindgi', '946', 'magazine', 'lipo', 'watch', 'ls1', '100', 'camcorder', 'support', 'mine', 'random', 'battle', 'speedchat', 'lovin', 'rodger', 'subscribed', 'admirer', '08717890890å', 'conducts', 'kalainar', 'doin', 'where', 'tron', 'fassyole', 'alwys', 'sun0819', 'housework', 'rearrange', 'pounds', 'free2day', 'logoff', 'printer', 'busty', 'moves', 'angry', '2price', 'boys', 'monoc', 'hurricanes', 'mobstorequiz10ppm', 'beendropping', 'woman', 'nìâte', 'lies', 'isaiah', 'rs', 'gn', 'payments', 'nonetheless', 'receive', 'chinese', 'ere', 'murder', 'sigh', '600', 'shade', '0089', 'slaaaaave', 'drop', 'mornings', 'ordered', 'evone', 'rcb', 'ic', 'having', 'fans', 'avalarr', 'ak', 'happiness', 'mini', 'connect', 'bhaskar', 'msg150p', 'transfered', 'enjoyed', '8800', 'sonyericsson', 'owo', 'room', '09061213237', 'joanna', 'invitation', 'fathima', 'max6', 'egbon', 'laundry', 'invest', 'valentine', 'built', 'normally', 'album', 'riddance', 'lakhs', 'images', 'tulip', 'izzit', 'raksha', 'management', 'space', 'wants', 'accommodationvouchers', 'lucky', 'usf', 'although', 'removal', 'forum', 'endless', 'coz', '03', 'arrange', 'ah', '21', 'ryder', 'exhibition', 'definitely', 'phews', 'grazed', 'unemployed', 'thnq', 'she', '75', 'surly', 'unbreakable', 'canceled', 'hmmmm', 'prakasam', 'hurting', 'videochat', 'reserve', 'proove', 'po', 'sar', 'prin', 'rajas', 'dog', 'urgent', 'imagination', 'dob', 'lately', '09', 'census', '1thing', 'toyota', 'coccooning', 'eurodisinc', 'buttons', 'itcould', '09061743811', '61610', '09111032124', '86888', 'look', 'frwd', 'books', 'sitting', 'jules', 'nz', 'tablet', 'soup', 'birth', 'r', 'darlin', 'parking', 'struggling', 'rp176781', 'uworld', 'yor', 'psychiatrist', 'funky', 'possession', 'miss', 'wear', 'bck', 'nb', 'wake', 'illness', 'call', 'frequently', 'nt', 'il', 'centre', 'alternative', 'albi', 'tm', 'spk', 'sam', 'silver', 'ahmad', 'tacos', 'bus8', '18p', 'safety', 'join', 'www', 'cum', 'nice', 'split', 'overa', 'dhorte', 'wrong', 'package', 'warner', 'snap', 'dentists', 'sariyag', 'island', 'chapel', 'hero', 'comfey', 'matches', 'moon', 'cl', 'smsrewards', '84025', 'havn', 'hai', 'gibbs', 'prey', 'wahala', 'filling', 'offline', 'file', 'letters', 'credit', 'maximize', 'jack', 'persevered', 'facts', '8pm', 'profile', 'scratching', 'fancied', '0quit', '087104711148', '255', 'impression', '09064018838', 'shouted', 'hitman', 'functions', 'elsewhere', 'specialisation', 'fights', 'somewhere', 'jerk', 'oyea', 'univ', 'mobno', 'hang', 'seems', 'mathematics', 'gud', 'miles', 'effects', 'stairs', 'samachara', 'pure', 'peripherals', 'friendsare', 'cappuccino', 'wth', 'joy', 'except', 'permissions', 'relocate', 'sphosting', 'perspective', 'thinkthis', 'foot', 'slap', 'british', 'ranjith', 'behind', 'knw', 'caring', 'wounds', 'slide', 'm26', 'mobileupd8', 'weigh', '45239', 'explain', 'panren', 'swing', 'opening', 'pic', '09066364311', 'marriage', 'raiden', 'fb', 'pobox45w2tg150p', '80062', '7732584351', 'value', 'nitros', 'rudi', 'career', 'kidz', 'sunoco', 'city', 'platt', 'macleran', 'failed', '08712405022', 'ay', 'jersey', 'overtime', 'peoples', 'subscriptn3gbp', 'filth', 'dismay', '3optical', 'cheers', 'dippeditinadew', 'fink', 'adress', 'gent', '177', 'signal', 'vegas', 'matthew', 'flash', 'kitty', 'angels', 'hu', 'weather', 'eleven', 'arrival', 'uneventful', 'petticoatdreams', 'gone', 'selected', '69698', 'brain', 'wondarfull', 'hmmm', 'sarasota', 'jb', 'weirdy', 'yours', '9am', '08718727870150ppm', '88088', 'sufficient', 'helping', 'massage', 'mths', 'exeter', 'mobiles', 'smiling', 'stress', 'express', 'or2stoptxt', 'returning', '08718727868', 'shindig', 'breadstick', 'delivered', 'ltdhelpdesk', 'stopsms', 'nagar', 'disk', '09066368753', 'early', 'waiting', 'constantly', 'insurance', 'compare', 'wallpaper', 'interflora', 'nvm', 'trav', 'heard', 'roomate', 'face', 'students', 'hearts', 'chat80155', 'decided', '3lp', 'sell', 'poly', 'junna', 'landmark', 'squeeeeeze', 'replacing', 'fantasy', '50p', 'lets', 'awkward', '7mp', 'w111wx', 'cheesy', 'finest', 'kilos', 'gbp', 'bx526', 'tis', 'market', 'healthy', 'muchand', 'usually', 'wined', 'everyday', 'penis', 'nothin', 'tomorw', 'hottest', 'lions', 'starving', 'mokka', '10', 'uncles', 'prasad', '2morrowxxxx', 'bt', 'cruisin', 'finish', 'kidding', 'buen', 'site', 'killing', '528', 'efreefone', 'oi', 'bob', 'propsd', 'units', 'club', 'history', 'alaikkum', 'mutai', 'twilight', '08704050406', '09050003091', 'pc', 'failing', 'adding', 'literally', 'jazz', 'visionsms', 'ur', 'bb', 'thinking', 'carryin', 'questions', 'search', 'ternal', 'cheating', '83118', 'jen', 'fly', 'fell', 'o2fwd', 'darling', 'throwing', 'phone750', 'crave', 'cres', 'dysentry', 'many', 'mcr', 'tarpon', 'compass', 'strip', 'method', 'heater', 'idc', '0800', 'vs', 'conference', 'w1', 'me', '250', 'holiday', 'beg', 'hide', 'neekunna', '32323', 'failure', 'nasdaq', 'jelly', '2u', 'mostly', '09058095107', 'tigress', 'cuddle', 'baaaaaaaabe', 'kicchu', 'necessary', 'anytime', 'gota', 'lingo', 'tuition', 'axel', 'uv', 'bunch', '74355', 'unjalur', 'visitors', 'asa', 'ji', 'splash', 'settings', 'afterwards', 'engalnd', '430', 'even', 'waitin', 'prescripiton', '24', 'marine', 'putting', 'tom', 'need', '07734396839', 'woken', 'lays', 'special', 'opt', 'software', 'deliveredtomorrow', 'brainless', 'happened', 'thanx4', 'apparently', 'gift', 'sth', 'mandy', 'toilet', 'stewartsize', 'writhing', 'bottle', 'leaf', 'lesson', '27', 'badrith', 'outstanding', 'neither', 'l', '83021', 'born', 'treasure', 'chik', 'wiskey', 'forth', 'wrking', '09058091854', 'spoon', '150p', 'shower', '08719180219', '15', 'ducking', 'hospitals', 'itwhichturnedinto', 'lage', 'shanil', 'phb1', 'doubletxt', 'forced', 'noiåõm', 'expect', 'jane', 'loverboy', 'morning', '80', 'sagamu', 'minecraft', 'line', 'lara', 'into', 'practical', '1winaweek', 'gautham', 'bonus', 'mia', 'lane', 'detroit', 'list', '09058094599', 'expired', 'booty', 'audrey', '09065069120', 'wan2', 'befor', 'nobody', 'vat', 'weiyi', 'cons', 'authorise', 'flight', 'charge', 'sao', 'slowing', 'båõday', 'nus', 'bstfrnd', 'abj', 'runs', 'stops', 'young', 'everyone', 'ruthful', 'sos', 'fan', 'dot', 'adult', 'recovery', 'laying', 'pdate_now', 'offer', '08719899230', 'stability', 'sacrifice', 'prompts', 'decking', 'link', 'wkg', 'animation', 'meaning', 'home', 'stopcs', 'vasai', 'enemy', 'festival', 'testing', 'detail', 'game', 'nah', 'anderson', 'kvb', 'stressfull', 'mark', 'spoilt', 'springs', 'drvgsto', 'unsubscribe', 'after', 'welcome', 'pages', 'needs', 'grave', 'holding', '545', 'atlast', 'smashed', 'leanne', 'borderline', 'concerned', '12mths', 'reduce', 'concern', 'ultimatum', '9996', 'fridge', 'cud', 'held', 'doll', 'plaid', 'shifad', 'size', 'club4mobiles', 'a', '1450', 'ure', 'm263uz', 'sppok', 'com1win150ppmx3age16', 'satsgettin', 'apologetic', 'zogtorius', 'virgil', 'imma', 'docks', 'use', 'per', 'now1', 'planettalkinstant', 'sunscreen', 'suckers', 'motherfucker', 'raji', 'boytoy', 'textand', 'tayseer', 'skins', '8552', 'would', 'dd', 'step', '6hl', 'mcfly', 'tip', '09064012103', 'final', 'ground', 'hard', 'jungle', 'k', 'days', 'verified', 'iphone', '4few', 'mising', 'virgin', 'understand', 'throw', 'howdy', 'graphics', 'gandhipuram', 'blessed', 'see', 'eat', 'chic', 'velachery', 'till', 'meant', 'photos', 'occupied', 'message', 'riley', 'gentleman', 'prods', '3750', 'gee', 'abt', 'cn', 'apology', 'incredible', 'gotta', 'defeat', 'colleg', 'k61', 'û_thanks', '87070', 'entey', 'havent', 'department', 'woot', 'obese', 'arranging', 'conclusion', 'ppm150', 'persolvo', '08448714184', 'pobox', 'vodka', '25p', 'firmware', 'evaluation', 'willpower', 'bffs', 'brolly', 'dogs', 'freedom', 'babysitting', 'ability', 'entire', 'files', 'redeemable', 'stop2stop', 'relax', '08700469649', 'load', 'dudes', 'justfound', 'cdgt', 'goigng', 'sirji', 'ibhltd', 'opened', 'kuch', 'westonzoyland', 'wats', 'varma', 'awaiting', 'shot', 'nigeria', 'adsense', 'korean', 'secondary', 've', 'luvs', 'ya', 'nosy', 'friends', 'harlem', 'somtimes', 'dbuk', 'sexual', 'ques', 'cutie', 'pist', 'award', 'heavy', 'lingerie', 'sad', 'late', 'coco', 'vikky', 'local', 'gibe', '07808726822', 'story', 'hee', 'shrek', 'curry', 'collect', 'kerala', '09064017295', 'connection', 'low', 'racing', 'sn', '31p', 'csh11', 'reliant', 'admit', 'eatin', 'meaningful', 'shoot', 'ru', 'pest', '85069', 'tata', 'necessarily', 'youuuuu', 'okey', 'printing', 'last', 'postcode', 'hcl', '650', 'tues', 'cream', 'matter', 'cbe', 'mint', 'secured', 'definite', 'payment', 'wicklow', '9pm', 'feel', 'thoughts', '08006344447', 'carlos', 'officer', 'remains', 'adrian', 'chart', 'nooooooo', 'fees', '38', 'lido', 'propose', 'messaged', 'involved', 'point', 'aft', 'appreciate', 'scallies', 'exact', 'particular', 'jokin', 'joined', '08715203656', 'earn', 'eviction', 'singles', 'tiger', '447801259231', 'tree', 'buyers', 'oreo', 'love', 'sooo', 'alert', 'lacs', 'dept', 'kano', 'iccha', 'joking', 'roller', 'sg', 'take', 'reserved', 'bags', 'visa', 'confirm', 'smsco', 'unkempt', 'gym', 'praises', 'tp', 'waz', 'snatch', 'frauds', 'dave', 'linux', 'deal', '0844', 'le', 'far', 'grow', 'rahul', 'cs', 'differences', 'stuck', 'tkls', 'sozi', 'saw', 'helpful', '6669', 'timing', 'notixiquating', 'govt', 'cricketer', 'did', 'recession', 'shant', 'panicks', 'minmoremobsemspobox45po139wa', 'subscribe6gbp', 'ovulation', 'lifpartnr', '40533', 'fake', 'shell', 'fifty', 'miiiiiiissssssssss', 'teachers', '18', 'aburo', 'northampton', 'phne', '900', 'repeat', 'sic', 'he', 'jetton', 'enter', 'snickering', 'following', 'shoul', 'horniest', 'fantastic', 'male', 'guide', 'pints', 'short', 'waited', 'hectic', 'hp', 'actual', 'acnt', 'tyler', 'football', 'answers', 'figures', '87131', 'ans', 'function', 'expecting', 'character', 'life', 'flung', 'aberdeen', 'end', 'juan', 'oooooh', 'nannys', 'hg', 'london', 'woohoo', 'luck', 'cause', '2end', 'extra', 'dang', 'tsunamis', 'awarded', 'mre', '08714712388', 'moby', 'peril', 'tescos', 'melt', 'polyphonic', 'makes', 'sarcasm', 'uk', 'gd', 'irritates', 'swtheart', 'hack', 'swimming', 'tscs08714740323', 'scrounge', 'morefrmmob', 'g696ga', 'irritating', 'simonwatson5120', 'tease', 'lower', 'nails', 'tomo', '85', 'iåõm', 'battery', 'forfeit', 'punch', 'sounds', 'på', 'understanding', 'assessment', 'lanre', 'both', 'imin', 'misfits', 'natalja', 'active', 'throws', 'tncs', 'best1', 'subpoly', 'thet', 'm', 'later', 'onwords', 'dear1', 'hypotheticalhuagauahahuagahyuhagga', 'server', 'cute', 'annie', 'venugopal', 'aroundn', 'wld', 'ironing', 'serious', '6times', 'habba', 'goldviking', 'disturb', 'elephant', 'adam', 'vpod', 'pshew', 'such', 'cancer', 'nitz', 'availa', 'interviw', 'aaooooright', '08714714011', 'durban', '5pm', 'rummer', '83383', '08712404000', 'û', 'closingdate04', 'perfect', 'regret', 'theatre', 'yorge', 'greeting', 'aust', 'ûówell', '4d', 'kavalan', 'scenery', 'box42wr29c', 'woould', 'recieve', 'quoting', 'vibrant', 'hesitate', 'cartons', '09050002311', 'speling', 'bedrm', 'independently', 'props', 'hmm', 'english', 'fiend', 'ore', 'wknd', 'cabin', 'cnupdates', 'wc1n', 'hotel', '79', 'mailbox', 'onion', 'leadership', 'rcv', 'enemies', '48922', 'bcums', 'problematic', 'posts', 'kids', 'select', 'dumb', 'respect', '54', 'implications', 'bahamas', 'sometime', 'auntie', 'death', 'aunty', 'videos', 'ni8', 'tests', 'younger', 'match', 'completes', 'budget', 'everything', 'gently', 'x2', 'opponenter', 'wuldnt', 'keep', 'nike', 'bangb', 'single', 'mnth', 'attended', '09065394973', 'im', '09050280520', 'treatin', 'antibiotic', 'unlimited', 'ibn', 'ipod', 'whole', 'miserable', 'w1j', 'donyt', '402', 'ths', 'promises', 'husband', 'vegetables', 'dled', 'specify', 'seekers', 'cheek', 'heaven', 'mm', 'resolved', 'rimac', 'burial', 'drink', 'owns', '2ez', '08712466669', '08712460324', 'm6', 'thinkin', '89938', 'old', 'distract', 'whatever', 'watts', 'compulsory', 'aiya', 'posting', 'jolt', 'chill', 'sae', '220', 'hurts', 'maga', 'philosophy', 'toclaim', 'amrita', 'pthis', 'prolly', 'itåõs', 'grab', 'by', 'swell', 'favour', '33', 'praying', 'x29', 'form', '40', 'indicate', 'guess', 'wait', 'fluids', 'others', 'l8r', 'mus', 'elaborate', 'awake', 'ptbo', 'gep', 'go2', 'regard', 'creative', 'pain', 'tonights', 'rang', 'pin', 'dai', 'musicnews', 'choosing', 'singapore', 'ive', '08714712412', 'splat', '8007', 'gaps', 'prasanth', 'heart', 'polyh', 'goodo', '1120', 'night', 'captaining', 'marry', 'exams', 'cutefrnd', 'benefits', 'doctors', '09094646631', 'up', 'salad', 'crazyin', 'mall', 'library', 'april', 'emailed', '391784', 'enketa', 'belive', 'masked', 'bcm1896wc1n3xx', 'sometme', 'sorted', 'pee', 'trained', 'honey', '12', 'reveal', 'cramps', 'california', 'president', 'celeb', 'sighs', 'traditions', 'diet', 'busy', 'field', 'bless', 'rofl', 'matrix3', 'persons', 'btw', 'administrator', 'hoops', 'unni', 'liverpool', 'kicks', 'prob', 'minapn', 'neighbour', 'violated', '3hrs', 'freshers', 'released', 'faster', 'breathe1', 'positive', '0871212025016', 'stand', 'handset', 'woo', 'cuddling', 'w1a', 'dial', 'easily', 'tat', '4mths', 'auction', 'notifications', 'li', 'woulda', 'gei', 'thx', 'sonathaya', 'ambrith', 'passion', 'reunion', '83222', 'enjoy', '447797706009', 'either', 'frnds', 'result', '08715203649', 'cars', '3rd', '50award', 'onlyfound', 'setting', 'saeed', 'jacuzzi', 'smsservices', '09061221061', 'audiitions', 'anyway', 'aka', 'maid', 'purchases', 'break', 'sink', 'polyph', 'checkin', 'complementary', '29', 'chess', 'host', 'land', 'toplay', '14', 'leo', 'brothers', 'dedicated', 'borin', 'unconditionally', 'orno', 'punishment', 'pocked', 'called', 'inconvenience', 'ofcourse', 'hotmail', 'terrorist', 'hitler', 'impressively', 'review', 'turkeys', 'clock', 'are', 'thk', 'atm', 'pilates', 'lmao', 'co', '84199', 'nature', 'avoiding', 'stadium', 'somewhr', 'fyi', 'spell', 'anymore', 'anand', 'nachos', 'amy', 'hallaq', 'box61', 'broth', 'yep', 'coast', 'rounder', 'loneliness', 'brief', 'thinks', 'marking', 'ansr', 'lying', 'perfume', 'ûªt', 'oblivious', 'screwd', 'staying', 'motorola', '09066660100', 'route', 'standing', 'arm', '83600', 'significant', 'saves', '120p', 'jaya', 'celebrated', 'for', 'moment', 'strongly', 'prediction', 'dreams', 'spelled', 'academic', 'photo', 'ignore', 'hate', 'bakrid', 'announcement', 'cheered', 'friend', '1131', 'disc', 'approx', 'atural', 'å', 'we', 'waqt', '8714714', 'siva', 'afternoon', 'matched', 'same', 'haughaighgtujhyguj', 'maintaining', 'lanka', 'outages', 'bear', 'sat', 'ltd', 'kr', '50ea', 'teach', 'taj', 'fixes', 'email', 'currently', 'woodland', '8wp', 'booking', 'janx', 'ec2a', 'out', 'come', 'responsibilities', 'cashbin', 'netcollex', 'copies', 'previous', 'bus', '7ws', 'tul', 'so', 'serving', 'somone', 'minmobsmorelkpobox177hp51fl', 'stereo', 'stolen', 'mmmmm', 'sudden', 'guaranteed', 'sh', 'londn', '07946746291', '80488', 'wet', 'landline', 'paragon', '09061790125', '09061209465', 'style', 'congratulations', 'expires', 'the', 'tootsie', '09065989182', 'spelling', 'quality', 'iff', 'providing', '09058094455', 'star', 'delicious', 'std', '50pmmorefrommobile2bremoved', 'lancaster', 'body', 'cutter', 'operator', 'sale', 'daily', 'lab', 'nmde', '09066380611', 'cedar', 'audition', 'innings', 'nevr', 'distance', 'arrow', 'decisions', 'someplace', 'accordin', 'apes', 'cps', 'decision', 'sinco', 'pairs', 'gary', 'mary', 'snowboarding', 'lect', 'pass', 'mo', 'expert', 'valid12hrs', 'quick', 'dhoni', 'victoria', 'kalaachutaarama', 'black', 'aid', 'txtno', 'wearing', '300p', 'sends', 'lar', 'trust', 'ladies', 'consistently', 'parked', 'sullivan', '050703', 'apo', 'nuther', 'gari', 'accommodation', 'eyes', 'ttyl', 'thing', 'about', 'bristol', 'password', 'stomach', 'daywith', '63miles', 'kochi', 'know', 'tho', 'westlife', 'essay', 'dull', 'paying', 'ron', 'ghodbandar', 'mornin', 'computerless', 'absence', 'plan', 'common', 'vic', 'small', 'asks', 'workout', 'matters', 'terms', 'creepy', 'uncountable', 'yeesh', '1hr', 'left', 'holby', 'hopeing', 'hav', 'write', 'colin', 'blessing', 'dedicate', 'bath', 'code', 'loosu', 'voice', '08707808226', 'deep', 'silent', 'gram', 'belongs', '50s', 'oveable', 'paid', 'pei', 'ûò', '2find', 'quizclub', 'type', 'drivby', 'regards', 'drive', 'brah', 'deck', 'callon', 'freaking', 'sen', 'factory', 'drizzling', 'amma', 'heap', 'networking', 'wrnog', 'michael', 'diwali', 'av', 'pehle', 'managed', 'woods', 'th', 'ws', 'bold', 'babies', 'chinnu', 'ebay', 'lasagna', 'glorious', 'orc', 'hall', 'uses', '08712402779', 'f', 'loans', 'plyr', 'hockey', 'ml', 'chief', '150pw', 'saying', 'reffering', 'wthout', '08702840625', 'knock', 'lover', 'urgnt', 'person', 'spam', 'figuring', '09050000928', 'ingredients', 'pete', 'weighed', 'pickle', 'aha', 'nite', 'digital', '0870753331018', 'ding', 'jealous', 'byåóleafcutter', 'skip', 'goggles', 'unknown', 'sumfing', 'compensation', 'mistake', 'collecting', 'harri', 'energy', 'flat', 'past', 'tol', 'spotty', 'thts', 'impatient', 'pobox84', 'manege', 'watchng', 'sabarish', 'punj', 'internet', 'scraped', 'check', 'telugu', 'sugar', 'unnecessarily', '4the', 'elliot', 'p', 'termsapply', '69969', 'rightly', 'lacking', 'lunch', 'weddingfriend', 'j', 'gnarls', 'everybody', 'sonetimes', '08717898035', 'director', 'activate', 'rows', '4goten', 'mite', 'planning', 'dads', 'rent', 'salary', 'flag', 'came', 'toppoly', 'chapter', 'icmb3cktz8r7', 'lil', 'salon', '80608', 'cuz', 'ending', 'basically', 'general', 'pending', 'invited', '153', 'trackmarque', 'wc1n3xx', 'greet', 'funny', 'textcomp', 'collapsed', 'didn', 'natalie', 'grandmas', 'does', 'main', 'glad', 'fine', 'eightish', '08718726970', 'movietrivia', 'gbp4', 'miwa', 'dry', 'hear', 'sunlight', 'shesil', 'thenampet', 'accomodate', 'whassup', 'noworriesloans', 'sib', 'del', 'prix', 'gas', 'yourself', 'nicky', 'fit', 'gek1510', 'dear', 'try', 'installing', 'str', 'ready', 'pressure', '2bold', 'kolathupalayam', 'wml', 'ffectionate', 'reaction', '3ss', 'heåõs', 'reppurcussions', 'role', 'haunt', 'freefone', 'dudette', 'sundayish', 'barbie', 'selflessness', 'sent', 'taste', 'thm', 'logo', 'lined', 'breezy', 'smacks', 'direct', 'depends', 'bye', 'fund', 'ing', 'research', 'strings', 'flow', 'dload', 'evil', 'ana', 'netvision', 'jenne', 'handle', 'preponed', 'rite', 'eg', 'w1j6hl', 'wheellock', '87239', 'gsex', 'queen', 'squishy', 'java', 'obviously', 'hook', 'downloaded', 'hasnt', '113', 'stamped', 'silence', 'dialling', 'copied', 'evo', 'edukkukayee', '21870000', 'cashed', 'affections', 'subs16', 'mojibiola', 'tomorro', 'otbox', 'den', 'eldest', 'cashto', 'more', 'couple', 'windy', 'blacko', 'timi', 'prone', 'imprtant', 'diseases', 'hols', 'student', 'on', 'thurs', 'pattern', 'hungry', 'urn', 'mac', 'still', 'soft', 'talked', 'bleak', 'nbme', 'kaila', 'huh', 'discreet', 'handsomes', 'picking', 'ros', 'showing', 'nervous', 'matured', 'nosh', 'possibly', 'somewheresomeone', 'normal', 'employee', 'directly', 'php', 'sathy', 'seventeen', 'olayiwola', 'ese', '7zs', 'thgt', '08000839402', 'bishan', 'guidance', 'ow', 'flatter', 'hurried', 'romcapspam', 'mel', 'url', 'crckt', 'de', 'pouch', '3qxj9', 'ph', 'deposit', 'collected', 'lennon', 'tihs', 'symbol', 'ldnw15h', 'fml', '08715203694', 'drugdealer', '85023', 'aries', '40mph', 'massive', 'if', 'demand', 'europe', 'walmart', 'nusstu', 'times', 'fingers', '2b', 'shelf', 'guesses', 'telephonic', 'deeraj', 'suite', 'us', 'reach', 'rude', 'absolutly', 'nose', 'sports', '80082', 'case', 'inconvenient', 'pics', 'application', 'areyouunique', 'que', 'ringtone', 'shsex', 'dokey', 'needa', 'grief', 'few', 'one', '6pm', 'semester', 'cc100p', 'continued', 'empty', 'untamed', '07808', '15541', 'korte', 'locks', 'children', 'restock', 'tot', 'minuts', 'reminds', 'mr', 'kiss', 'pump', 'suffering', 'much', 'finally', 'kaaj', 'expected', 'abta', 'progress', 'karaoke', 'avent', 'campus', 'personally', 'jenny', 'driving', 'none', '1956669', 'joke', 'konw', 'goes', '08712400602450p', 'spose', 'occasion', 'giv', 'aldrine', 'frontierville', 'varaya', 'fixedline', 'b4', 'k52', 'elaborating', 'dizzamn', 'amount', '087018728737', 'chatter', 'exciting', 'boost', 'call2optout', 'uploaded', 'at', 'products', 'slippery', 'dick', 'doublemins', 'developer', 'despite', 'tog', 'buyer', 'depression', 'zebra', 'k718', 'geoenvironmental', 'neva', 'tonite', 'brandy', 'ummmmmaah', '08700435505150p', 'ettans', '69696', 'them', 'excellent', 'plz', 'fletcher', 'chennai', 'oru', 'sef', 'intrepid', 'sorting', 'deduct', 'settling', '61200', 'works', 'rip', 'cool', 'mode', 'mufti', 'device', 'tallent', 'arcade', 'reverse', 'transferred', 'blow', 'dileep', 'jackpot', 'bcz', '_', 'autocorrect', 'naseeb', 'lie', 'rebooting', 'gv', 'mono', 'hundred', 'tuesday', 'colours', 'ceri', 'custcare', 'praps', 'sticky', 'teasing', 'parts', 'starer', 'kiefer', 'pity', 'convince', 'murderer', '32000', 'll', 'infernal', 'publish', 'flowing', 'arms', 'bx', 'ego', 'doggy', 'shah', 'everytime', 'turn', 'outgoing', 'hopes', 'her', 'innocent', 'date', 'blame', 'fiting', 'lived', 'push', 'canary', '26', 'alertfrom', '47', 'apt', 'dress', 'pieces', 'cheetos', 'moms', 'dual', 'strict', 'outside', 'finishing', 'rpl', 'discuss', 'texted', 'milk', 'right', 'wkly', 'mila', 'hamper', 'reacting', 'something', 'posted', 'playng', '1st4terms', 'help08714742804', 're', 'charges', 'recognise', 'attracts', 'intrude', 'warm', 'hotmix', 'prem', 'lvblefrnd', 'detailed', 'stifled', 'track', 'jay', 'exposed', 'choice', 'infra', '0789xxxxxxx', 'grown', '09065174042', 'fishrman', 'santa', '5ish', '08719181503', 'lccltd', '2rcv', 'mumhas', 'myspace', '____', '1yf', 'someday', 'gravy', 'je', 'ask', 'skateboarding', 'sory', 'pleasured', '5th', 'cared', 'iyo', 'boy', 'pink', 'mfl', 'dont', '5wb', 'ipaditan', 'took', 'gm', 'kusruthi', 'outbid', 'comment', 'fuuuuck', 'fucking', 'chicken', '08719181513', 'sweet', 'xoxo', '83435', 'ashley', '09058099801', 'screamed', '526', 'pussy', 'dinner', 'patent', 'axis', 'cry', 'fish', 'gpu', 'park', 'designation', 'treats', 'uttered', 'carefully', 'wtlp', 'weaknesses', 'frosty', 'control', 'happy', 'mgs', 'truffles', 'predictive', 'gained', '4utxt', 'aeronautics', 'dps', 'prior', 'worthless', '630', 'terrific', 'members', 'sexy', 'ends', 'loxahatchee', 'rto', '09065394514', 'pie', 'al', 'assistance', '6ph', 'flip', 'watr', 'linerental', 'wylie', 's89', 'monkeyaround', 'mu', 'laxinorficated', 'unmits', 'aiyah', 'proze', 'sweets', 'clos1', 'cook', 'creep', 'temp', 'hlp', 'kaitlyn', 'haul', 'dictionary', 'period', '6th', 'least', '7am', '08712300220', 'swollen', 'conacted', 'vomiting', 'supply', 'ctter', 'set', 'positions', 'republic', 'netun', 'pray', 'reason', 'global', 'shining', 'promise', 'bookedthe', 'rec', 'tmorow', 'lovly', 'achieve', 'receipt', 'bpo', 'through', 'gain', 'coca', 'street', 'stream', 'scorable', 'minimum', 'toothpaste', 'legitimat', 'cochin', '08709222922', 'lives', 'checking', '2nights', 'princess', 'loss', 'farm', 'welp', 'before', '10ppm', 'toss', 'sacked', 'infections', 'supposed', 'social', 'prepaid', 'tolerance', 'seh', 'nurungu', 'indeed', 'hrishi', '5min', 'dude', 'yah', '50gbp', 'v', 'hw', 'properly', 'shes', 'happening', 'greatest', 'enough', '6031', 'nitw', 'bari', 'pre', 'reference', 'mayb', '28', 'pataistha', 'minmobsmore', 'cornwall', 'clubmoby', '00', 'jeetey', 'y', 'wasnt', 'chinatown', 'lick', 'aint', 'costa', '2005', 'adore', 'tortilla', 'wishlist', 'edu', 'issues', 'opinions', 'squid', 'treated', 'train', 'exactly', '09066364589', 'kent', 'rates', 'reflection', '6days', 'sony', 'certificate', 'omw', 'dating', 'realized', 'dropped', 'rain', '4719', 'ploughing', 'stores', 'ps', 'worse', 'dancce', 'charged', 'kanji', 'yck', '09090204448', '08719181259', '30pp', 'mean', 'forums', 'adi', 'ar', 'lodging', '83110', 'lib', 'new', 'w4', 'frank', 'cover', 'ujhhhhhhh', 'weightloss', 'raglan', 'western', 'careers', 'rum', 'derek', 'person2die', 'gap', 'g', 'semiobscure', 'anywhere', 'lubly', 'en', 'ello', 'calls', 'east', 'suppose', 'cine', '87575', '2stoptxt', '123', 'com', 'june', 'nearby', 'beth', '2', 'gving', 'approaches', 'gorgeous', 'ndship', 'pull', 'delivery', 'however', '09041940223', 'women', 'rough', 'vivek', 'maxå', 'aom', 'smoke', 'simple', 'permission', 'belovd', 'quote', 'netflix', 'castor', '078', 'bambling', 'sickness', 'pract', 'csc', 'macha', 'crisis', 'listening2the', 'icicibank', 'against', 'food', 'dha', 'wrks', 'grams', 'india', 'tension', 'presents', 'wipro', 'phil', 'always', 'nigh', 'ali', '25', 'sandiago', 'wihtuot', 'warwick', 'pocay', 'kotees', 'careabout', 'child', 'register', 'dine', 'jacket', 'fri', 'chillin', '09058094565', 'abeg', 'santacalling', 'plans', 'edwards', 'nowhere', 'draw', 'armand', 'bend', 'flirt', 'squatting', 'fren', 'gudnyt', '5000', '24th', 'word', 'lovingly', 'kz', 'messenger', 'little', 'order', 'pleased', '1500']\n"
     ]
    }
   ],
   "source": [
    "training_set['SMS'] = training_set['SMS'].str.split()\n",
    "vocabulary = []\n",
    "for sms in training_set['SMS']:\n",
    "    for word in sms:\n",
    "        vocabulary.append(word)\n",
    "vocabulary = list(set(vocabulary))\n",
    "print(vocabulary)"
   ]
  },
  {
   "cell_type": "code",
   "execution_count": 92,
   "id": "1267c342",
   "metadata": {},
   "outputs": [
    {
     "data": {
      "text/plain": [
       "7737"
      ]
     },
     "execution_count": 92,
     "metadata": {},
     "output_type": "execute_result"
    }
   ],
   "source": [
    "len(vocabulary)"
   ]
  },
  {
   "cell_type": "code",
   "execution_count": 93,
   "id": "23bfc966",
   "metadata": {},
   "outputs": [
    {
     "data": {
      "text/html": [
       "<div>\n",
       "<style scoped>\n",
       "    .dataframe tbody tr th:only-of-type {\n",
       "        vertical-align: middle;\n",
       "    }\n",
       "\n",
       "    .dataframe tbody tr th {\n",
       "        vertical-align: top;\n",
       "    }\n",
       "\n",
       "    .dataframe thead th {\n",
       "        text-align: right;\n",
       "    }\n",
       "</style>\n",
       "<table border=\"1\" class=\"dataframe\">\n",
       "  <thead>\n",
       "    <tr style=\"text-align: right;\">\n",
       "      <th></th>\n",
       "      <th>secret</th>\n",
       "      <th>prize</th>\n",
       "      <th>claim</th>\n",
       "      <th>now</th>\n",
       "      <th>coming</th>\n",
       "      <th>to</th>\n",
       "      <th>my</th>\n",
       "      <th>party</th>\n",
       "      <th>winner</th>\n",
       "    </tr>\n",
       "  </thead>\n",
       "  <tbody>\n",
       "    <tr>\n",
       "      <th>0</th>\n",
       "      <td>2</td>\n",
       "      <td>2</td>\n",
       "      <td>1</td>\n",
       "      <td>1</td>\n",
       "      <td>0</td>\n",
       "      <td>0</td>\n",
       "      <td>0</td>\n",
       "      <td>0</td>\n",
       "      <td>0</td>\n",
       "    </tr>\n",
       "    <tr>\n",
       "      <th>1</th>\n",
       "      <td>1</td>\n",
       "      <td>0</td>\n",
       "      <td>0</td>\n",
       "      <td>0</td>\n",
       "      <td>1</td>\n",
       "      <td>1</td>\n",
       "      <td>1</td>\n",
       "      <td>1</td>\n",
       "      <td>0</td>\n",
       "    </tr>\n",
       "    <tr>\n",
       "      <th>2</th>\n",
       "      <td>1</td>\n",
       "      <td>1</td>\n",
       "      <td>1</td>\n",
       "      <td>1</td>\n",
       "      <td>0</td>\n",
       "      <td>0</td>\n",
       "      <td>0</td>\n",
       "      <td>0</td>\n",
       "      <td>1</td>\n",
       "    </tr>\n",
       "  </tbody>\n",
       "</table>\n",
       "</div>"
      ],
      "text/plain": [
       "   secret  prize  claim  now  coming  to  my  party  winner\n",
       "0       2      2      1    1       0   0   0      0       0\n",
       "1       1      0      0    0       1   1   1      1       0\n",
       "2       1      1      1    1       0   0   0      0       1"
      ]
     },
     "execution_count": 93,
     "metadata": {},
     "output_type": "execute_result"
    }
   ],
   "source": [
    "word_counts_per_sms = {'secret': [2,1,1],\n",
    "                       'prize': [2,0,1],\n",
    "                       'claim': [1,0,1],\n",
    "                       'now': [1,0,1],\n",
    "                       'coming': [0,1,0],\n",
    "                       'to': [0,1,0],\n",
    "                       'my': [0,1,0],\n",
    "                       'party': [0,1,0],\n",
    "                       'winner': [0,0,1]\n",
    "                      }\n",
    "\n",
    "word_counts = pd.DataFrame(word_counts_per_sms)\n",
    "word_counts.head()"
   ]
  },
  {
   "cell_type": "code",
   "execution_count": 94,
   "id": "9d63613e",
   "metadata": {},
   "outputs": [],
   "source": [
    "word_counts_per_sms = {unique_word: [0] * len(training_set['SMS']) for unique_word in vocabulary}\n",
    "\n",
    "for index, sms in enumerate(training_set['SMS']):\n",
    "    for word in sms:\n",
    "        word_counts_per_sms[word][index] += 1"
   ]
  },
  {
   "cell_type": "code",
   "execution_count": 96,
   "id": "d4fa813a",
   "metadata": {},
   "outputs": [
    {
     "data": {
      "text/html": [
       "<div>\n",
       "<style scoped>\n",
       "    .dataframe tbody tr th:only-of-type {\n",
       "        vertical-align: middle;\n",
       "    }\n",
       "\n",
       "    .dataframe tbody tr th {\n",
       "        vertical-align: top;\n",
       "    }\n",
       "\n",
       "    .dataframe thead th {\n",
       "        text-align: right;\n",
       "    }\n",
       "</style>\n",
       "<table border=\"1\" class=\"dataframe\">\n",
       "  <thead>\n",
       "    <tr style=\"text-align: right;\">\n",
       "      <th></th>\n",
       "      <th>chip</th>\n",
       "      <th>wont</th>\n",
       "      <th>screaming</th>\n",
       "      <th>kiosk</th>\n",
       "      <th>shoranur</th>\n",
       "      <th>scenario</th>\n",
       "      <th>gods</th>\n",
       "      <th>suzy</th>\n",
       "      <th>box97n7qp</th>\n",
       "      <th>wid</th>\n",
       "      <th>...</th>\n",
       "      <th>5000</th>\n",
       "      <th>24th</th>\n",
       "      <th>word</th>\n",
       "      <th>lovingly</th>\n",
       "      <th>kz</th>\n",
       "      <th>messenger</th>\n",
       "      <th>little</th>\n",
       "      <th>order</th>\n",
       "      <th>pleased</th>\n",
       "      <th>1500</th>\n",
       "    </tr>\n",
       "  </thead>\n",
       "  <tbody>\n",
       "    <tr>\n",
       "      <th>0</th>\n",
       "      <td>0</td>\n",
       "      <td>0</td>\n",
       "      <td>0</td>\n",
       "      <td>0</td>\n",
       "      <td>0</td>\n",
       "      <td>0</td>\n",
       "      <td>0</td>\n",
       "      <td>0</td>\n",
       "      <td>0</td>\n",
       "      <td>0</td>\n",
       "      <td>...</td>\n",
       "      <td>0</td>\n",
       "      <td>0</td>\n",
       "      <td>0</td>\n",
       "      <td>0</td>\n",
       "      <td>0</td>\n",
       "      <td>0</td>\n",
       "      <td>0</td>\n",
       "      <td>0</td>\n",
       "      <td>0</td>\n",
       "      <td>0</td>\n",
       "    </tr>\n",
       "    <tr>\n",
       "      <th>1</th>\n",
       "      <td>0</td>\n",
       "      <td>0</td>\n",
       "      <td>0</td>\n",
       "      <td>0</td>\n",
       "      <td>0</td>\n",
       "      <td>0</td>\n",
       "      <td>0</td>\n",
       "      <td>0</td>\n",
       "      <td>0</td>\n",
       "      <td>0</td>\n",
       "      <td>...</td>\n",
       "      <td>0</td>\n",
       "      <td>0</td>\n",
       "      <td>0</td>\n",
       "      <td>0</td>\n",
       "      <td>0</td>\n",
       "      <td>0</td>\n",
       "      <td>0</td>\n",
       "      <td>0</td>\n",
       "      <td>0</td>\n",
       "      <td>0</td>\n",
       "    </tr>\n",
       "    <tr>\n",
       "      <th>2</th>\n",
       "      <td>0</td>\n",
       "      <td>0</td>\n",
       "      <td>0</td>\n",
       "      <td>0</td>\n",
       "      <td>0</td>\n",
       "      <td>0</td>\n",
       "      <td>0</td>\n",
       "      <td>0</td>\n",
       "      <td>0</td>\n",
       "      <td>0</td>\n",
       "      <td>...</td>\n",
       "      <td>0</td>\n",
       "      <td>0</td>\n",
       "      <td>0</td>\n",
       "      <td>0</td>\n",
       "      <td>0</td>\n",
       "      <td>0</td>\n",
       "      <td>0</td>\n",
       "      <td>0</td>\n",
       "      <td>0</td>\n",
       "      <td>0</td>\n",
       "    </tr>\n",
       "    <tr>\n",
       "      <th>3</th>\n",
       "      <td>0</td>\n",
       "      <td>0</td>\n",
       "      <td>0</td>\n",
       "      <td>0</td>\n",
       "      <td>0</td>\n",
       "      <td>0</td>\n",
       "      <td>0</td>\n",
       "      <td>0</td>\n",
       "      <td>0</td>\n",
       "      <td>0</td>\n",
       "      <td>...</td>\n",
       "      <td>0</td>\n",
       "      <td>0</td>\n",
       "      <td>0</td>\n",
       "      <td>0</td>\n",
       "      <td>0</td>\n",
       "      <td>0</td>\n",
       "      <td>0</td>\n",
       "      <td>0</td>\n",
       "      <td>0</td>\n",
       "      <td>0</td>\n",
       "    </tr>\n",
       "    <tr>\n",
       "      <th>4</th>\n",
       "      <td>0</td>\n",
       "      <td>0</td>\n",
       "      <td>0</td>\n",
       "      <td>0</td>\n",
       "      <td>0</td>\n",
       "      <td>0</td>\n",
       "      <td>0</td>\n",
       "      <td>0</td>\n",
       "      <td>0</td>\n",
       "      <td>0</td>\n",
       "      <td>...</td>\n",
       "      <td>0</td>\n",
       "      <td>0</td>\n",
       "      <td>0</td>\n",
       "      <td>0</td>\n",
       "      <td>0</td>\n",
       "      <td>0</td>\n",
       "      <td>0</td>\n",
       "      <td>0</td>\n",
       "      <td>0</td>\n",
       "      <td>0</td>\n",
       "    </tr>\n",
       "  </tbody>\n",
       "</table>\n",
       "<p>5 rows × 7737 columns</p>\n",
       "</div>"
      ],
      "text/plain": [
       "   chip  wont  screaming  kiosk  shoranur  scenario  gods  suzy  box97n7qp  \\\n",
       "0     0     0          0      0         0         0     0     0          0   \n",
       "1     0     0          0      0         0         0     0     0          0   \n",
       "2     0     0          0      0         0         0     0     0          0   \n",
       "3     0     0          0      0         0         0     0     0          0   \n",
       "4     0     0          0      0         0         0     0     0          0   \n",
       "\n",
       "   wid  ...  5000  24th  word  lovingly  kz  messenger  little  order  \\\n",
       "0    0  ...     0     0     0         0   0          0       0      0   \n",
       "1    0  ...     0     0     0         0   0          0       0      0   \n",
       "2    0  ...     0     0     0         0   0          0       0      0   \n",
       "3    0  ...     0     0     0         0   0          0       0      0   \n",
       "4    0  ...     0     0     0         0   0          0       0      0   \n",
       "\n",
       "   pleased  1500  \n",
       "0        0     0  \n",
       "1        0     0  \n",
       "2        0     0  \n",
       "3        0     0  \n",
       "4        0     0  \n",
       "\n",
       "[5 rows x 7737 columns]"
      ]
     },
     "execution_count": 96,
     "metadata": {},
     "output_type": "execute_result"
    }
   ],
   "source": [
    "word_counts = pd.DataFrame(word_counts_per_sms)\n",
    "word_counts.head()"
   ]
  },
  {
   "cell_type": "code",
   "execution_count": 97,
   "id": "ad2990e1",
   "metadata": {},
   "outputs": [
    {
     "data": {
      "text/html": [
       "<div>\n",
       "<style scoped>\n",
       "    .dataframe tbody tr th:only-of-type {\n",
       "        vertical-align: middle;\n",
       "    }\n",
       "\n",
       "    .dataframe tbody tr th {\n",
       "        vertical-align: top;\n",
       "    }\n",
       "\n",
       "    .dataframe thead th {\n",
       "        text-align: right;\n",
       "    }\n",
       "</style>\n",
       "<table border=\"1\" class=\"dataframe\">\n",
       "  <thead>\n",
       "    <tr style=\"text-align: right;\">\n",
       "      <th></th>\n",
       "      <th>Label</th>\n",
       "      <th>SMS</th>\n",
       "      <th>chip</th>\n",
       "      <th>wont</th>\n",
       "      <th>screaming</th>\n",
       "      <th>kiosk</th>\n",
       "      <th>shoranur</th>\n",
       "      <th>scenario</th>\n",
       "      <th>gods</th>\n",
       "      <th>suzy</th>\n",
       "      <th>...</th>\n",
       "      <th>5000</th>\n",
       "      <th>24th</th>\n",
       "      <th>word</th>\n",
       "      <th>lovingly</th>\n",
       "      <th>kz</th>\n",
       "      <th>messenger</th>\n",
       "      <th>little</th>\n",
       "      <th>order</th>\n",
       "      <th>pleased</th>\n",
       "      <th>1500</th>\n",
       "    </tr>\n",
       "  </thead>\n",
       "  <tbody>\n",
       "    <tr>\n",
       "      <th>0</th>\n",
       "      <td>ham</td>\n",
       "      <td>[i, promise, to, take, good, care, of, you, pr...</td>\n",
       "      <td>0</td>\n",
       "      <td>0</td>\n",
       "      <td>0</td>\n",
       "      <td>0</td>\n",
       "      <td>0</td>\n",
       "      <td>0</td>\n",
       "      <td>0</td>\n",
       "      <td>0</td>\n",
       "      <td>...</td>\n",
       "      <td>0</td>\n",
       "      <td>0</td>\n",
       "      <td>0</td>\n",
       "      <td>0</td>\n",
       "      <td>0</td>\n",
       "      <td>0</td>\n",
       "      <td>0</td>\n",
       "      <td>0</td>\n",
       "      <td>0</td>\n",
       "      <td>0</td>\n",
       "    </tr>\n",
       "    <tr>\n",
       "      <th>1</th>\n",
       "      <td>ham</td>\n",
       "      <td>[let, me, know, how, it, changes, in, the, nex...</td>\n",
       "      <td>0</td>\n",
       "      <td>0</td>\n",
       "      <td>0</td>\n",
       "      <td>0</td>\n",
       "      <td>0</td>\n",
       "      <td>0</td>\n",
       "      <td>0</td>\n",
       "      <td>0</td>\n",
       "      <td>...</td>\n",
       "      <td>0</td>\n",
       "      <td>0</td>\n",
       "      <td>0</td>\n",
       "      <td>0</td>\n",
       "      <td>0</td>\n",
       "      <td>0</td>\n",
       "      <td>0</td>\n",
       "      <td>0</td>\n",
       "      <td>0</td>\n",
       "      <td>0</td>\n",
       "    </tr>\n",
       "    <tr>\n",
       "      <th>2</th>\n",
       "      <td>spam</td>\n",
       "      <td>[free, 1st, week, entry, 2, textpod, 4, a, cha...</td>\n",
       "      <td>0</td>\n",
       "      <td>0</td>\n",
       "      <td>0</td>\n",
       "      <td>0</td>\n",
       "      <td>0</td>\n",
       "      <td>0</td>\n",
       "      <td>0</td>\n",
       "      <td>0</td>\n",
       "      <td>...</td>\n",
       "      <td>0</td>\n",
       "      <td>0</td>\n",
       "      <td>0</td>\n",
       "      <td>0</td>\n",
       "      <td>0</td>\n",
       "      <td>0</td>\n",
       "      <td>0</td>\n",
       "      <td>0</td>\n",
       "      <td>0</td>\n",
       "      <td>0</td>\n",
       "    </tr>\n",
       "    <tr>\n",
       "      <th>3</th>\n",
       "      <td>ham</td>\n",
       "      <td>[they, can, try, they, can, get, lost, in, fac...</td>\n",
       "      <td>0</td>\n",
       "      <td>0</td>\n",
       "      <td>0</td>\n",
       "      <td>0</td>\n",
       "      <td>0</td>\n",
       "      <td>0</td>\n",
       "      <td>0</td>\n",
       "      <td>0</td>\n",
       "      <td>...</td>\n",
       "      <td>0</td>\n",
       "      <td>0</td>\n",
       "      <td>0</td>\n",
       "      <td>0</td>\n",
       "      <td>0</td>\n",
       "      <td>0</td>\n",
       "      <td>0</td>\n",
       "      <td>0</td>\n",
       "      <td>0</td>\n",
       "      <td>0</td>\n",
       "    </tr>\n",
       "    <tr>\n",
       "      <th>4</th>\n",
       "      <td>spam</td>\n",
       "      <td>[xclusive, clubsaisai, 2morow, 28, 5, soiree, ...</td>\n",
       "      <td>0</td>\n",
       "      <td>0</td>\n",
       "      <td>0</td>\n",
       "      <td>0</td>\n",
       "      <td>0</td>\n",
       "      <td>0</td>\n",
       "      <td>0</td>\n",
       "      <td>0</td>\n",
       "      <td>...</td>\n",
       "      <td>0</td>\n",
       "      <td>0</td>\n",
       "      <td>0</td>\n",
       "      <td>0</td>\n",
       "      <td>0</td>\n",
       "      <td>0</td>\n",
       "      <td>0</td>\n",
       "      <td>0</td>\n",
       "      <td>0</td>\n",
       "      <td>0</td>\n",
       "    </tr>\n",
       "  </tbody>\n",
       "</table>\n",
       "<p>5 rows × 7739 columns</p>\n",
       "</div>"
      ],
      "text/plain": [
       "  Label                                                SMS  chip  wont  \\\n",
       "0   ham  [i, promise, to, take, good, care, of, you, pr...     0     0   \n",
       "1   ham  [let, me, know, how, it, changes, in, the, nex...     0     0   \n",
       "2  spam  [free, 1st, week, entry, 2, textpod, 4, a, cha...     0     0   \n",
       "3   ham  [they, can, try, they, can, get, lost, in, fac...     0     0   \n",
       "4  spam  [xclusive, clubsaisai, 2morow, 28, 5, soiree, ...     0     0   \n",
       "\n",
       "   screaming  kiosk  shoranur  scenario  gods  suzy  ...  5000  24th  word  \\\n",
       "0          0      0         0         0     0     0  ...     0     0     0   \n",
       "1          0      0         0         0     0     0  ...     0     0     0   \n",
       "2          0      0         0         0     0     0  ...     0     0     0   \n",
       "3          0      0         0         0     0     0  ...     0     0     0   \n",
       "4          0      0         0         0     0     0  ...     0     0     0   \n",
       "\n",
       "   lovingly  kz  messenger  little  order  pleased  1500  \n",
       "0         0   0          0       0      0        0     0  \n",
       "1         0   0          0       0      0        0     0  \n",
       "2         0   0          0       0      0        0     0  \n",
       "3         0   0          0       0      0        0     0  \n",
       "4         0   0          0       0      0        0     0  \n",
       "\n",
       "[5 rows x 7739 columns]"
      ]
     },
     "execution_count": 97,
     "metadata": {},
     "output_type": "execute_result"
    }
   ],
   "source": [
    "training_set_clean = pd.concat([training_set, word_counts], axis=1)\n",
    "training_set_clean.head()"
   ]
  },
  {
   "cell_type": "code",
   "execution_count": 98,
   "id": "e76d45b6",
   "metadata": {},
   "outputs": [],
   "source": [
    "# Isolating spam and ham messages first\n",
    "spam_messages = training_set_clean[training_set_clean['Label'] == 'spam']\n",
    "ham_messages = training_set_clean[training_set_clean['Label'] == 'ham']"
   ]
  },
  {
   "cell_type": "code",
   "execution_count": 99,
   "id": "752b9a92",
   "metadata": {},
   "outputs": [],
   "source": [
    "# P(Spam) and P(Ham)\n",
    "p_spam = len(spam_messages) / len(training_set_clean)\n",
    "p_ham = len(ham_messages) / len(training_set_clean)\n"
   ]
  },
  {
   "cell_type": "code",
   "execution_count": 100,
   "id": "0e8bee8e",
   "metadata": {},
   "outputs": [],
   "source": [
    "# N_Spam\n",
    "n_words_per_spam_message = spam_messages['SMS'].apply(len)\n",
    "n_spam = n_words_per_spam_message.sum()"
   ]
  },
  {
   "cell_type": "code",
   "execution_count": 101,
   "id": "272d3ebe",
   "metadata": {},
   "outputs": [],
   "source": [
    "# N_Ham\n",
    "n_words_per_ham_message = ham_messages['SMS'].apply(len)\n",
    "n_ham = n_words_per_ham_message.sum()"
   ]
  },
  {
   "cell_type": "code",
   "execution_count": 102,
   "id": "f382ab24",
   "metadata": {},
   "outputs": [],
   "source": [
    "# N_Vocabulary\n",
    "n_vocabulary = len(vocabulary)"
   ]
  },
  {
   "cell_type": "code",
   "execution_count": 103,
   "id": "55cb6223",
   "metadata": {},
   "outputs": [],
   "source": [
    "# Laplace smoothing\n",
    "alpha = 1"
   ]
  },
  {
   "cell_type": "markdown",
   "id": "5c7894b6",
   "metadata": {},
   "source": [
    "Calculating Parameters\n",
    "Now that we have the constant terms calculated above, we can move on with calculating the parameters P(wi|Spam) and P(wi|Ham).\n",
    "\n",
    "P(wi|Spam) and P(wi|Ham) will vary depending on the individual words. For instance, P(\"secret\"|Spam) will have a certain probability value, while P(\"cousin\"|Spam) or P(\"lovely\"|Spam) will most likely have other values.\n",
    "\n",
    "Therefore, each parameter will be a conditional probability value associated with each word in the vocabulary.\n",
    "\n",
    "The parameters are calculated using these two equations:\n",
    "\n",
    "\n",
    "p(wi/spam) = (Nwi/spam +alpha)\n",
    "            ------------------\n",
    "            Nspam + alpha. Nvocab\n",
    "            \n",
    " p(wi/ham) = (Nwi/ham +alpha)\n",
    "            ------------------\n",
    "            Nham + alpha. Nvocab"
   ]
  },
  {
   "cell_type": "code",
   "execution_count": 104,
   "id": "7fb9201e",
   "metadata": {},
   "outputs": [],
   "source": [
    "# Initiate parameters\n",
    "parameters_spam = {unique_word:0 for unique_word in vocabulary}\n",
    "parameters_ham = {unique_word:0 for unique_word in vocabulary}"
   ]
  },
  {
   "cell_type": "code",
   "execution_count": 105,
   "id": "9bc9cbc2",
   "metadata": {},
   "outputs": [],
   "source": [
    "# Calculate parameters\n",
    "for word in vocabulary:\n",
    "    n_word_given_spam = spam_messages[word].sum() # spam_messages already defined\n",
    "    p_word_given_spam = (n_word_given_spam + alpha) / (n_spam + alpha*n_vocabulary)\n",
    "    parameters_spam[word] = p_word_given_spam\n",
    "\n",
    "    n_word_given_ham = ham_messages[word].sum() # ham_messages already defined\n",
    "    p_word_given_ham = (n_word_given_ham + alpha) / (n_ham + alpha*n_vocabulary)\n",
    "    parameters_ham[word] = p_word_given_ham"
   ]
  },
  {
   "cell_type": "code",
   "execution_count": 106,
   "id": "16ea4874",
   "metadata": {},
   "outputs": [],
   "source": [
    "# Calculate new message \n"
   ]
  },
  {
   "cell_type": "code",
   "execution_count": 112,
   "id": "02d34532",
   "metadata": {},
   "outputs": [],
   "source": [
    "import re\n",
    "\n",
    "def classify(message):\n",
    "    '''\n",
    "    message: a string\n",
    "    '''\n",
    "\n",
    "    message = re.sub('\\W', ' ', message)\n",
    "    message = message.lower().split()\n",
    "    \n",
    "    p_spam_given_message = p_spam\n",
    "    p_ham_given_message = p_ham\n",
    "    for word in message:\n",
    "        if word in parameters_spam:\n",
    "            p_spam_given_message *= parameters_spam[word]\n",
    "\n",
    "        if word in parameters_ham: \n",
    "            p_ham_given_message *= parameters_ham[word]\n",
    "            \n",
    "    print('P(Spam|message):', p_spam_given_message)\n",
    "    print('P(Ham|message):', p_ham_given_message)\n",
    "    \n",
    "    if p_ham_given_message > p_spam_given_message:\n",
    "        print('Label: Ham')\n",
    "    elif p_ham_given_message < p_spam_given_message:\n",
    "         print('Label: Spam')\n",
    "    else:\n",
    "        print('Equal proabilities, have a human classify this!')"
   ]
  },
  {
   "cell_type": "code",
   "execution_count": 113,
   "id": "3173d763",
   "metadata": {},
   "outputs": [
    {
     "name": "stdout",
     "output_type": "stream",
     "text": [
      "P(Spam|message): 5.588761453036754e-26\n",
      "P(Ham|message): 2.2301593769743494e-27\n",
      "Label: Spam\n"
     ]
    }
   ],
   "source": [
    "classify('WINNER!! This is the secret code to unlock the money: C3421.')"
   ]
  },
  {
   "cell_type": "code",
   "execution_count": 114,
   "id": "40d62b66",
   "metadata": {},
   "outputs": [
    {
     "name": "stdout",
     "output_type": "stream",
     "text": [
      "P(Spam|message): 1.3135321860262849e-25\n",
      "P(Ham|message): 4.898432592530827e-21\n",
      "Label: Ham\n"
     ]
    }
   ],
   "source": [
    "classify(\"Sounds good, Tom, then see u there\")"
   ]
  },
  {
   "cell_type": "code",
   "execution_count": 115,
   "id": "81f04215",
   "metadata": {},
   "outputs": [],
   "source": [
    "#TEst accuracy calc"
   ]
  },
  {
   "cell_type": "code",
   "execution_count": 126,
   "id": "af54b283",
   "metadata": {},
   "outputs": [],
   "source": [
    "def classify_test_set(message):\n",
    "    '''\n",
    "    message: a string\n",
    "    '''\n",
    "\n",
    "    message = re.sub('\\W', ' ', message)\n",
    "    message = message.lower().split()\n",
    "    \n",
    "    p_spam_given_message = p_spam\n",
    "    p_ham_given_message = p_ham\n",
    "    \n",
    "    for word in message:\n",
    "        if word in parameters_spam:\n",
    "            p_spam_given_message *= parameters_spam[word]\n",
    "            \n",
    "        if word in parameters_ham:\n",
    "            p_ham_given_message *= parameters_ham[word]\n",
    "            \n",
    "    if p_ham_given_message > p_spam_given_message:\n",
    "        return ('ham')\n",
    "    \n",
    "    elif p_spam_given_message > p_ham_given_message:\n",
    "        return 'spam'\n",
    "    else:\n",
    "        return 'needs human classification'"
   ]
  },
  {
   "cell_type": "code",
   "execution_count": 127,
   "id": "76d7b337",
   "metadata": {},
   "outputs": [
    {
     "data": {
      "text/html": [
       "<div>\n",
       "<style scoped>\n",
       "    .dataframe tbody tr th:only-of-type {\n",
       "        vertical-align: middle;\n",
       "    }\n",
       "\n",
       "    .dataframe tbody tr th {\n",
       "        vertical-align: top;\n",
       "    }\n",
       "\n",
       "    .dataframe thead th {\n",
       "        text-align: right;\n",
       "    }\n",
       "</style>\n",
       "<table border=\"1\" class=\"dataframe\">\n",
       "  <thead>\n",
       "    <tr style=\"text-align: right;\">\n",
       "      <th></th>\n",
       "      <th>Label</th>\n",
       "      <th>SMS</th>\n",
       "      <th>predicted</th>\n",
       "    </tr>\n",
       "  </thead>\n",
       "  <tbody>\n",
       "    <tr>\n",
       "      <th>0</th>\n",
       "      <td>spam</td>\n",
       "      <td>Your B4U voucher w/c 27/03 is MARSMS. Log onto...</td>\n",
       "      <td>spam</td>\n",
       "    </tr>\n",
       "    <tr>\n",
       "      <th>1</th>\n",
       "      <td>spam</td>\n",
       "      <td>As a valued customer, I am pleased to advise y...</td>\n",
       "      <td>spam</td>\n",
       "    </tr>\n",
       "    <tr>\n",
       "      <th>2</th>\n",
       "      <td>ham</td>\n",
       "      <td>Sure but since my parents will be working on T...</td>\n",
       "      <td>ham</td>\n",
       "    </tr>\n",
       "    <tr>\n",
       "      <th>3</th>\n",
       "      <td>ham</td>\n",
       "      <td>You're not sure that I'm not trying to make xa...</td>\n",
       "      <td>ham</td>\n",
       "    </tr>\n",
       "    <tr>\n",
       "      <th>4</th>\n",
       "      <td>ham</td>\n",
       "      <td>All done, all handed in. Don't know if mega sh...</td>\n",
       "      <td>ham</td>\n",
       "    </tr>\n",
       "  </tbody>\n",
       "</table>\n",
       "</div>"
      ],
      "text/plain": [
       "  Label                                                SMS predicted\n",
       "0  spam  Your B4U voucher w/c 27/03 is MARSMS. Log onto...      spam\n",
       "1  spam  As a valued customer, I am pleased to advise y...      spam\n",
       "2   ham  Sure but since my parents will be working on T...       ham\n",
       "3   ham  You're not sure that I'm not trying to make xa...       ham\n",
       "4   ham  All done, all handed in. Don't know if mega sh...       ham"
      ]
     },
     "execution_count": 127,
     "metadata": {},
     "output_type": "execute_result"
    }
   ],
   "source": [
    "test_set['predicted'] = test_set['SMS'].apply(classify_test_set)\n",
    "test_set.head()"
   ]
  },
  {
   "cell_type": "code",
   "execution_count": 128,
   "id": "6b99b684",
   "metadata": {},
   "outputs": [
    {
     "name": "stdout",
     "output_type": "stream",
     "text": [
      "Correct: 1104\n",
      "Incorrect: 10\n",
      "Accuracy: 0.9910233393177738\n"
     ]
    }
   ],
   "source": [
    "correct = 0\n",
    "total = test_set.shape[0]\n",
    "\n",
    "for row in test_set.iterrows():\n",
    "    row = row[1]\n",
    "    if row['Label'] == row['predicted']:\n",
    "        correct += 1\n",
    "\n",
    "print('Correct:', correct)\n",
    "print('Incorrect:', total - correct)\n",
    "print('Accuracy:', correct/total)"
   ]
  },
  {
   "cell_type": "code",
   "execution_count": null,
   "id": "0094024f",
   "metadata": {},
   "outputs": [],
   "source": []
  }
 ],
 "metadata": {
  "kernelspec": {
   "display_name": "Python 3 (ipykernel)",
   "language": "python",
   "name": "python3"
  },
  "language_info": {
   "codemirror_mode": {
    "name": "ipython",
    "version": 3
   },
   "file_extension": ".py",
   "mimetype": "text/x-python",
   "name": "python",
   "nbconvert_exporter": "python",
   "pygments_lexer": "ipython3",
   "version": "3.10.0"
  }
 },
 "nbformat": 4,
 "nbformat_minor": 5
}
